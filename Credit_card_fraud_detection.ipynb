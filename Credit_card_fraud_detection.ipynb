{
  "nbformat": 4,
  "nbformat_minor": 0,
  "metadata": {
    "colab": {
      "provenance": []
    },
    "kernelspec": {
      "name": "python3",
      "display_name": "Python 3"
    },
    "language_info": {
      "name": "python"
    }
  },
  "cells": [
    {
      "cell_type": "code",
      "execution_count": 4,
      "metadata": {
        "id": "9wfZx3PmhJ-S"
      },
      "outputs": [],
      "source": [
        "!pip install -q kaggle optuna xgboost lightgbm shap imbalanced-learn tensorflow joblib fastapi uvicorn"
      ]
    },
    {
      "cell_type": "code",
      "source": [
        "from google.colab import files\n",
        "# If you have kaggle.json, upload it and run the download commands\n",
        "# files.upload()\n",
        "# !mkdir -p ~/.kaggle\n",
        "# !cp kaggle.json ~/.kaggle/\n",
        "# !chmod 600 ~/.kaggle/kaggle.json\n",
        "# !kaggle datasets download -d mlg-ulb/creditcardfraud\n",
        "# !unzip -o creditcardfraud.zip\n",
        "\n",
        "\n",
        "# Or manually upload creditcard.csv to Colab via the left Files pane."
      ],
      "metadata": {
        "id": "P86kS2ZRhVZa"
      },
      "execution_count": 5,
      "outputs": []
    },
    {
      "cell_type": "code",
      "source": [
        "import pandas as pd, numpy as np\n",
        "import matplotlib.pyplot as plt, seaborn as sns\n",
        "import joblib, warnings, optuna, shap, time\n",
        "warnings.filterwarnings('ignore')\n",
        "\n",
        "\n",
        "from sklearn.model_selection import train_test_split, StratifiedKFold\n",
        "from sklearn.metrics import roc_auc_score, average_precision_score, classification_report, confusion_matrix\n",
        "from sklearn.preprocessing import StandardScaler, RobustScaler\n",
        "from imblearn.over_sampling import SMOTE"
      ],
      "metadata": {
        "id": "O3SifykwhgdU"
      },
      "execution_count": 6,
      "outputs": []
    },
    {
      "cell_type": "code",
      "source": [
        "def precision_at_k(y_true, y_score, k=0.01):\n",
        "    n = max(1, int(len(y_score) * k))\n",
        "    idx = np.argsort(y_score)[-n:]\n",
        "    return y_true.iloc[idx].sum() / n\n",
        "\n",
        "\n",
        "def plot_pr(y_true, y_score, label='model'):\n",
        "    from sklearn.metrics import precision_recall_curve, average_precision_score\n",
        "    p, r, _ = precision_recall_curve(y_true, y_score)\n",
        "    ap = average_precision_score(y_true, y_score)\n",
        "    plt.plot(r, p, label=f\"{label} AP={ap:.4f}\")\n",
        "    plt.xlabel(\"Recall\"); plt.ylabel(\"Precision\"); plt.legend()"
      ],
      "metadata": {
        "id": "QJMyDUlChisp"
      },
      "execution_count": 7,
      "outputs": []
    },
    {
      "cell_type": "code",
      "source": [
        "# Ensure creditcard.csv is in the working directory\n",
        "df = pd.read_csv('creditcard.csv')\n",
        "print(df.shape)\n",
        "df.head()"
      ],
      "metadata": {
        "colab": {
          "base_uri": "https://localhost:8080/",
          "height": 273
        },
        "id": "bPxQL2oehlnR",
        "outputId": "ecc71b6f-38a8-4ba0-bf17-e5a282d5ce3b"
      },
      "execution_count": 8,
      "outputs": [
        {
          "output_type": "stream",
          "name": "stdout",
          "text": [
            "(284807, 31)\n"
          ]
        },
        {
          "output_type": "execute_result",
          "data": {
            "text/plain": [
              "   Time        V1        V2        V3        V4        V5        V6        V7  \\\n",
              "0   0.0 -1.359807 -0.072781  2.536347  1.378155 -0.338321  0.462388  0.239599   \n",
              "1   0.0  1.191857  0.266151  0.166480  0.448154  0.060018 -0.082361 -0.078803   \n",
              "2   1.0 -1.358354 -1.340163  1.773209  0.379780 -0.503198  1.800499  0.791461   \n",
              "3   1.0 -0.966272 -0.185226  1.792993 -0.863291 -0.010309  1.247203  0.237609   \n",
              "4   2.0 -1.158233  0.877737  1.548718  0.403034 -0.407193  0.095921  0.592941   \n",
              "\n",
              "         V8        V9  ...       V21       V22       V23       V24       V25  \\\n",
              "0  0.098698  0.363787  ... -0.018307  0.277838 -0.110474  0.066928  0.128539   \n",
              "1  0.085102 -0.255425  ... -0.225775 -0.638672  0.101288 -0.339846  0.167170   \n",
              "2  0.247676 -1.514654  ...  0.247998  0.771679  0.909412 -0.689281 -0.327642   \n",
              "3  0.377436 -1.387024  ... -0.108300  0.005274 -0.190321 -1.175575  0.647376   \n",
              "4 -0.270533  0.817739  ... -0.009431  0.798278 -0.137458  0.141267 -0.206010   \n",
              "\n",
              "        V26       V27       V28  Amount  Class  \n",
              "0 -0.189115  0.133558 -0.021053  149.62      0  \n",
              "1  0.125895 -0.008983  0.014724    2.69      0  \n",
              "2 -0.139097 -0.055353 -0.059752  378.66      0  \n",
              "3 -0.221929  0.062723  0.061458  123.50      0  \n",
              "4  0.502292  0.219422  0.215153   69.99      0  \n",
              "\n",
              "[5 rows x 31 columns]"
            ],
            "text/html": [
              "\n",
              "  <div id=\"df-532464b2-1600-407a-b8c4-f76b14422759\" class=\"colab-df-container\">\n",
              "    <div>\n",
              "<style scoped>\n",
              "    .dataframe tbody tr th:only-of-type {\n",
              "        vertical-align: middle;\n",
              "    }\n",
              "\n",
              "    .dataframe tbody tr th {\n",
              "        vertical-align: top;\n",
              "    }\n",
              "\n",
              "    .dataframe thead th {\n",
              "        text-align: right;\n",
              "    }\n",
              "</style>\n",
              "<table border=\"1\" class=\"dataframe\">\n",
              "  <thead>\n",
              "    <tr style=\"text-align: right;\">\n",
              "      <th></th>\n",
              "      <th>Time</th>\n",
              "      <th>V1</th>\n",
              "      <th>V2</th>\n",
              "      <th>V3</th>\n",
              "      <th>V4</th>\n",
              "      <th>V5</th>\n",
              "      <th>V6</th>\n",
              "      <th>V7</th>\n",
              "      <th>V8</th>\n",
              "      <th>V9</th>\n",
              "      <th>...</th>\n",
              "      <th>V21</th>\n",
              "      <th>V22</th>\n",
              "      <th>V23</th>\n",
              "      <th>V24</th>\n",
              "      <th>V25</th>\n",
              "      <th>V26</th>\n",
              "      <th>V27</th>\n",
              "      <th>V28</th>\n",
              "      <th>Amount</th>\n",
              "      <th>Class</th>\n",
              "    </tr>\n",
              "  </thead>\n",
              "  <tbody>\n",
              "    <tr>\n",
              "      <th>0</th>\n",
              "      <td>0.0</td>\n",
              "      <td>-1.359807</td>\n",
              "      <td>-0.072781</td>\n",
              "      <td>2.536347</td>\n",
              "      <td>1.378155</td>\n",
              "      <td>-0.338321</td>\n",
              "      <td>0.462388</td>\n",
              "      <td>0.239599</td>\n",
              "      <td>0.098698</td>\n",
              "      <td>0.363787</td>\n",
              "      <td>...</td>\n",
              "      <td>-0.018307</td>\n",
              "      <td>0.277838</td>\n",
              "      <td>-0.110474</td>\n",
              "      <td>0.066928</td>\n",
              "      <td>0.128539</td>\n",
              "      <td>-0.189115</td>\n",
              "      <td>0.133558</td>\n",
              "      <td>-0.021053</td>\n",
              "      <td>149.62</td>\n",
              "      <td>0</td>\n",
              "    </tr>\n",
              "    <tr>\n",
              "      <th>1</th>\n",
              "      <td>0.0</td>\n",
              "      <td>1.191857</td>\n",
              "      <td>0.266151</td>\n",
              "      <td>0.166480</td>\n",
              "      <td>0.448154</td>\n",
              "      <td>0.060018</td>\n",
              "      <td>-0.082361</td>\n",
              "      <td>-0.078803</td>\n",
              "      <td>0.085102</td>\n",
              "      <td>-0.255425</td>\n",
              "      <td>...</td>\n",
              "      <td>-0.225775</td>\n",
              "      <td>-0.638672</td>\n",
              "      <td>0.101288</td>\n",
              "      <td>-0.339846</td>\n",
              "      <td>0.167170</td>\n",
              "      <td>0.125895</td>\n",
              "      <td>-0.008983</td>\n",
              "      <td>0.014724</td>\n",
              "      <td>2.69</td>\n",
              "      <td>0</td>\n",
              "    </tr>\n",
              "    <tr>\n",
              "      <th>2</th>\n",
              "      <td>1.0</td>\n",
              "      <td>-1.358354</td>\n",
              "      <td>-1.340163</td>\n",
              "      <td>1.773209</td>\n",
              "      <td>0.379780</td>\n",
              "      <td>-0.503198</td>\n",
              "      <td>1.800499</td>\n",
              "      <td>0.791461</td>\n",
              "      <td>0.247676</td>\n",
              "      <td>-1.514654</td>\n",
              "      <td>...</td>\n",
              "      <td>0.247998</td>\n",
              "      <td>0.771679</td>\n",
              "      <td>0.909412</td>\n",
              "      <td>-0.689281</td>\n",
              "      <td>-0.327642</td>\n",
              "      <td>-0.139097</td>\n",
              "      <td>-0.055353</td>\n",
              "      <td>-0.059752</td>\n",
              "      <td>378.66</td>\n",
              "      <td>0</td>\n",
              "    </tr>\n",
              "    <tr>\n",
              "      <th>3</th>\n",
              "      <td>1.0</td>\n",
              "      <td>-0.966272</td>\n",
              "      <td>-0.185226</td>\n",
              "      <td>1.792993</td>\n",
              "      <td>-0.863291</td>\n",
              "      <td>-0.010309</td>\n",
              "      <td>1.247203</td>\n",
              "      <td>0.237609</td>\n",
              "      <td>0.377436</td>\n",
              "      <td>-1.387024</td>\n",
              "      <td>...</td>\n",
              "      <td>-0.108300</td>\n",
              "      <td>0.005274</td>\n",
              "      <td>-0.190321</td>\n",
              "      <td>-1.175575</td>\n",
              "      <td>0.647376</td>\n",
              "      <td>-0.221929</td>\n",
              "      <td>0.062723</td>\n",
              "      <td>0.061458</td>\n",
              "      <td>123.50</td>\n",
              "      <td>0</td>\n",
              "    </tr>\n",
              "    <tr>\n",
              "      <th>4</th>\n",
              "      <td>2.0</td>\n",
              "      <td>-1.158233</td>\n",
              "      <td>0.877737</td>\n",
              "      <td>1.548718</td>\n",
              "      <td>0.403034</td>\n",
              "      <td>-0.407193</td>\n",
              "      <td>0.095921</td>\n",
              "      <td>0.592941</td>\n",
              "      <td>-0.270533</td>\n",
              "      <td>0.817739</td>\n",
              "      <td>...</td>\n",
              "      <td>-0.009431</td>\n",
              "      <td>0.798278</td>\n",
              "      <td>-0.137458</td>\n",
              "      <td>0.141267</td>\n",
              "      <td>-0.206010</td>\n",
              "      <td>0.502292</td>\n",
              "      <td>0.219422</td>\n",
              "      <td>0.215153</td>\n",
              "      <td>69.99</td>\n",
              "      <td>0</td>\n",
              "    </tr>\n",
              "  </tbody>\n",
              "</table>\n",
              "<p>5 rows × 31 columns</p>\n",
              "</div>\n",
              "    <div class=\"colab-df-buttons\">\n",
              "\n",
              "  <div class=\"colab-df-container\">\n",
              "    <button class=\"colab-df-convert\" onclick=\"convertToInteractive('df-532464b2-1600-407a-b8c4-f76b14422759')\"\n",
              "            title=\"Convert this dataframe to an interactive table.\"\n",
              "            style=\"display:none;\">\n",
              "\n",
              "  <svg xmlns=\"http://www.w3.org/2000/svg\" height=\"24px\" viewBox=\"0 -960 960 960\">\n",
              "    <path d=\"M120-120v-720h720v720H120Zm60-500h600v-160H180v160Zm220 220h160v-160H400v160Zm0 220h160v-160H400v160ZM180-400h160v-160H180v160Zm440 0h160v-160H620v160ZM180-180h160v-160H180v160Zm440 0h160v-160H620v160Z\"/>\n",
              "  </svg>\n",
              "    </button>\n",
              "\n",
              "  <style>\n",
              "    .colab-df-container {\n",
              "      display:flex;\n",
              "      gap: 12px;\n",
              "    }\n",
              "\n",
              "    .colab-df-convert {\n",
              "      background-color: #E8F0FE;\n",
              "      border: none;\n",
              "      border-radius: 50%;\n",
              "      cursor: pointer;\n",
              "      display: none;\n",
              "      fill: #1967D2;\n",
              "      height: 32px;\n",
              "      padding: 0 0 0 0;\n",
              "      width: 32px;\n",
              "    }\n",
              "\n",
              "    .colab-df-convert:hover {\n",
              "      background-color: #E2EBFA;\n",
              "      box-shadow: 0px 1px 2px rgba(60, 64, 67, 0.3), 0px 1px 3px 1px rgba(60, 64, 67, 0.15);\n",
              "      fill: #174EA6;\n",
              "    }\n",
              "\n",
              "    .colab-df-buttons div {\n",
              "      margin-bottom: 4px;\n",
              "    }\n",
              "\n",
              "    [theme=dark] .colab-df-convert {\n",
              "      background-color: #3B4455;\n",
              "      fill: #D2E3FC;\n",
              "    }\n",
              "\n",
              "    [theme=dark] .colab-df-convert:hover {\n",
              "      background-color: #434B5C;\n",
              "      box-shadow: 0px 1px 3px 1px rgba(0, 0, 0, 0.15);\n",
              "      filter: drop-shadow(0px 1px 2px rgba(0, 0, 0, 0.3));\n",
              "      fill: #FFFFFF;\n",
              "    }\n",
              "  </style>\n",
              "\n",
              "    <script>\n",
              "      const buttonEl =\n",
              "        document.querySelector('#df-532464b2-1600-407a-b8c4-f76b14422759 button.colab-df-convert');\n",
              "      buttonEl.style.display =\n",
              "        google.colab.kernel.accessAllowed ? 'block' : 'none';\n",
              "\n",
              "      async function convertToInteractive(key) {\n",
              "        const element = document.querySelector('#df-532464b2-1600-407a-b8c4-f76b14422759');\n",
              "        const dataTable =\n",
              "          await google.colab.kernel.invokeFunction('convertToInteractive',\n",
              "                                                    [key], {});\n",
              "        if (!dataTable) return;\n",
              "\n",
              "        const docLinkHtml = 'Like what you see? Visit the ' +\n",
              "          '<a target=\"_blank\" href=https://colab.research.google.com/notebooks/data_table.ipynb>data table notebook</a>'\n",
              "          + ' to learn more about interactive tables.';\n",
              "        element.innerHTML = '';\n",
              "        dataTable['output_type'] = 'display_data';\n",
              "        await google.colab.output.renderOutput(dataTable, element);\n",
              "        const docLink = document.createElement('div');\n",
              "        docLink.innerHTML = docLinkHtml;\n",
              "        element.appendChild(docLink);\n",
              "      }\n",
              "    </script>\n",
              "  </div>\n",
              "\n",
              "\n",
              "    <div id=\"df-471d6c5a-d613-4556-9049-ce235f85db49\">\n",
              "      <button class=\"colab-df-quickchart\" onclick=\"quickchart('df-471d6c5a-d613-4556-9049-ce235f85db49')\"\n",
              "                title=\"Suggest charts\"\n",
              "                style=\"display:none;\">\n",
              "\n",
              "<svg xmlns=\"http://www.w3.org/2000/svg\" height=\"24px\"viewBox=\"0 0 24 24\"\n",
              "     width=\"24px\">\n",
              "    <g>\n",
              "        <path d=\"M19 3H5c-1.1 0-2 .9-2 2v14c0 1.1.9 2 2 2h14c1.1 0 2-.9 2-2V5c0-1.1-.9-2-2-2zM9 17H7v-7h2v7zm4 0h-2V7h2v10zm4 0h-2v-4h2v4z\"/>\n",
              "    </g>\n",
              "</svg>\n",
              "      </button>\n",
              "\n",
              "<style>\n",
              "  .colab-df-quickchart {\n",
              "      --bg-color: #E8F0FE;\n",
              "      --fill-color: #1967D2;\n",
              "      --hover-bg-color: #E2EBFA;\n",
              "      --hover-fill-color: #174EA6;\n",
              "      --disabled-fill-color: #AAA;\n",
              "      --disabled-bg-color: #DDD;\n",
              "  }\n",
              "\n",
              "  [theme=dark] .colab-df-quickchart {\n",
              "      --bg-color: #3B4455;\n",
              "      --fill-color: #D2E3FC;\n",
              "      --hover-bg-color: #434B5C;\n",
              "      --hover-fill-color: #FFFFFF;\n",
              "      --disabled-bg-color: #3B4455;\n",
              "      --disabled-fill-color: #666;\n",
              "  }\n",
              "\n",
              "  .colab-df-quickchart {\n",
              "    background-color: var(--bg-color);\n",
              "    border: none;\n",
              "    border-radius: 50%;\n",
              "    cursor: pointer;\n",
              "    display: none;\n",
              "    fill: var(--fill-color);\n",
              "    height: 32px;\n",
              "    padding: 0;\n",
              "    width: 32px;\n",
              "  }\n",
              "\n",
              "  .colab-df-quickchart:hover {\n",
              "    background-color: var(--hover-bg-color);\n",
              "    box-shadow: 0 1px 2px rgba(60, 64, 67, 0.3), 0 1px 3px 1px rgba(60, 64, 67, 0.15);\n",
              "    fill: var(--button-hover-fill-color);\n",
              "  }\n",
              "\n",
              "  .colab-df-quickchart-complete:disabled,\n",
              "  .colab-df-quickchart-complete:disabled:hover {\n",
              "    background-color: var(--disabled-bg-color);\n",
              "    fill: var(--disabled-fill-color);\n",
              "    box-shadow: none;\n",
              "  }\n",
              "\n",
              "  .colab-df-spinner {\n",
              "    border: 2px solid var(--fill-color);\n",
              "    border-color: transparent;\n",
              "    border-bottom-color: var(--fill-color);\n",
              "    animation:\n",
              "      spin 1s steps(1) infinite;\n",
              "  }\n",
              "\n",
              "  @keyframes spin {\n",
              "    0% {\n",
              "      border-color: transparent;\n",
              "      border-bottom-color: var(--fill-color);\n",
              "      border-left-color: var(--fill-color);\n",
              "    }\n",
              "    20% {\n",
              "      border-color: transparent;\n",
              "      border-left-color: var(--fill-color);\n",
              "      border-top-color: var(--fill-color);\n",
              "    }\n",
              "    30% {\n",
              "      border-color: transparent;\n",
              "      border-left-color: var(--fill-color);\n",
              "      border-top-color: var(--fill-color);\n",
              "      border-right-color: var(--fill-color);\n",
              "    }\n",
              "    40% {\n",
              "      border-color: transparent;\n",
              "      border-right-color: var(--fill-color);\n",
              "      border-top-color: var(--fill-color);\n",
              "    }\n",
              "    60% {\n",
              "      border-color: transparent;\n",
              "      border-right-color: var(--fill-color);\n",
              "    }\n",
              "    80% {\n",
              "      border-color: transparent;\n",
              "      border-right-color: var(--fill-color);\n",
              "      border-bottom-color: var(--fill-color);\n",
              "    }\n",
              "    90% {\n",
              "      border-color: transparent;\n",
              "      border-bottom-color: var(--fill-color);\n",
              "    }\n",
              "  }\n",
              "</style>\n",
              "\n",
              "      <script>\n",
              "        async function quickchart(key) {\n",
              "          const quickchartButtonEl =\n",
              "            document.querySelector('#' + key + ' button');\n",
              "          quickchartButtonEl.disabled = true;  // To prevent multiple clicks.\n",
              "          quickchartButtonEl.classList.add('colab-df-spinner');\n",
              "          try {\n",
              "            const charts = await google.colab.kernel.invokeFunction(\n",
              "                'suggestCharts', [key], {});\n",
              "          } catch (error) {\n",
              "            console.error('Error during call to suggestCharts:', error);\n",
              "          }\n",
              "          quickchartButtonEl.classList.remove('colab-df-spinner');\n",
              "          quickchartButtonEl.classList.add('colab-df-quickchart-complete');\n",
              "        }\n",
              "        (() => {\n",
              "          let quickchartButtonEl =\n",
              "            document.querySelector('#df-471d6c5a-d613-4556-9049-ce235f85db49 button');\n",
              "          quickchartButtonEl.style.display =\n",
              "            google.colab.kernel.accessAllowed ? 'block' : 'none';\n",
              "        })();\n",
              "      </script>\n",
              "    </div>\n",
              "\n",
              "    </div>\n",
              "  </div>\n"
            ],
            "application/vnd.google.colaboratory.intrinsic+json": {
              "type": "dataframe",
              "variable_name": "df"
            }
          },
          "metadata": {},
          "execution_count": 8
        }
      ]
    },
    {
      "cell_type": "code",
      "source": [
        "# Basic features for this dataset (V1..V28 are PCA components provided)\n",
        "df['Hour'] = ((df['Time'] % (24*3600)) // 3600).astype(int)\n",
        "df['Amount_scaled'] = RobustScaler().fit_transform(df[['Amount']])\n",
        "features = [c for c in df.columns if c not in ['Class','Time','Amount']]\n",
        "X, y = df[features], df['Class']"
      ],
      "metadata": {
        "id": "42DnX281hoOB"
      },
      "execution_count": 9,
      "outputs": []
    },
    {
      "cell_type": "code",
      "source": [
        "X_train, X_test, y_train, y_test = train_test_split(X, y, stratify=y, test_size=0.2, random_state=42)\n",
        "\n",
        "\n",
        "scaler = StandardScaler()\n",
        "num_cols = ['Amount_scaled'] + [c for c in X.columns if c.startswith('V')] + ['Hour']\n",
        "X_train[num_cols] = scaler.fit_transform(X_train[num_cols])\n",
        "X_test[num_cols] = scaler.transform(X_test[num_cols])\n",
        "joblib.dump(scaler, 'scaler.pkl')"
      ],
      "metadata": {
        "colab": {
          "base_uri": "https://localhost:8080/"
        },
        "id": "KyCTdBiRhqvi",
        "outputId": "d9b962a1-763a-44ae-8635-66993f1782c3"
      },
      "execution_count": 10,
      "outputs": [
        {
          "output_type": "execute_result",
          "data": {
            "text/plain": [
              "['scaler.pkl']"
            ]
          },
          "metadata": {},
          "execution_count": 10
        }
      ]
    },
    {
      "cell_type": "code",
      "source": [
        "TUNING_MODE = 'FAST' # or 'DEEP'\n",
        "N_TRIALS = 10 if TUNING_MODE=='FAST' else 50\n",
        "N_FOLDS = 3\n",
        "ES_ROUNDS = 40\n",
        "SEED = 42"
      ],
      "metadata": {
        "id": "h_EltEt8hsob"
      },
      "execution_count": 11,
      "outputs": []
    },
    {
      "cell_type": "code",
      "source": [
        "import xgboost as xgb\n",
        "from optuna.integration import XGBoostPruningCallback\n",
        "from sklearn.metrics import average_precision_score\n",
        "\n",
        "\n",
        "def tune_xgb(trial):\n",
        "    params = {\n",
        "        'objective':'binary:logistic',\n",
        "        'eval_metric':'logloss',\n",
        "        'tree_method':'hist',\n",
        "        'lambda': trial.suggest_float('lambda',1e-6,10,log=True),\n",
        "        'alpha': trial.suggest_float('alpha',1e-6,10,log=True),\n",
        "        'eta': trial.suggest_float('eta',0.01,0.3),\n",
        "        'max_depth': trial.suggest_int('max_depth',3,10),\n",
        "        'subsample': trial.suggest_float('subsample',0.5,1.0),\n",
        "        'colsample_bytree': trial.suggest_float('colsample_bytree',0.5,1.0),\n",
        "    }\n",
        "\n",
        "\n",
        "    cv = StratifiedKFold(N_FOLDS, shuffle=True, random_state=SEED)\n",
        "    scores = []\n",
        "    for tr, va in cv.split(X_train, y_train):\n",
        "        Xtr, ytr = X_train.iloc[tr], y_train.iloc[tr]\n",
        "        Xva, yva = X_train.iloc[va], y_train.iloc[va]\n",
        "        Xr, yr = SMOTE(random_state=SEED).fit_resample(Xtr, ytr)\n",
        "\n",
        "\n",
        "        dtr = xgb.DMatrix(Xr, label=yr)\n",
        "        dva = xgb.DMatrix(Xva, label=yva)\n",
        "\n",
        "\n",
        "        model = xgb.train(params, dtr, evals=[(dva,'valid')],\n",
        "                          num_boost_round=2000,\n",
        "                          early_stopping_rounds=ES_ROUNDS,\n",
        "                          verbose_eval=False,\n",
        "                          callbacks=[XGBoostPruningCallback(trial,'valid-logloss')])\n",
        "\n",
        "\n",
        "        preds = model.predict(dva, iteration_range=(0, model.best_iteration+1))\n",
        "        scores.append(average_precision_score(yva, preds))\n",
        "\n",
        "\n",
        "    return np.mean(scores)"
      ],
      "metadata": {
        "id": "VWcDirgZhuIq"
      },
      "execution_count": 12,
      "outputs": []
    },
    {
      "cell_type": "code",
      "metadata": {
        "colab": {
          "base_uri": "https://localhost:8080/"
        },
        "id": "85dc9ceb",
        "outputId": "07ad2542-f70f-4878-f7f4-963a04922230"
      },
      "source": [
        "!pip install optuna-integration[xgboost]"
      ],
      "execution_count": 13,
      "outputs": [
        {
          "output_type": "stream",
          "name": "stdout",
          "text": [
            "Requirement already satisfied: optuna-integration[xgboost] in /usr/local/lib/python3.12/dist-packages (4.5.0)\n",
            "Requirement already satisfied: optuna in /usr/local/lib/python3.12/dist-packages (from optuna-integration[xgboost]) (4.5.0)\n",
            "Requirement already satisfied: xgboost in /usr/local/lib/python3.12/dist-packages (from optuna-integration[xgboost]) (3.1.1)\n",
            "Requirement already satisfied: alembic>=1.5.0 in /usr/local/lib/python3.12/dist-packages (from optuna->optuna-integration[xgboost]) (1.17.0)\n",
            "Requirement already satisfied: colorlog in /usr/local/lib/python3.12/dist-packages (from optuna->optuna-integration[xgboost]) (6.10.1)\n",
            "Requirement already satisfied: numpy in /usr/local/lib/python3.12/dist-packages (from optuna->optuna-integration[xgboost]) (2.0.2)\n",
            "Requirement already satisfied: packaging>=20.0 in /usr/local/lib/python3.12/dist-packages (from optuna->optuna-integration[xgboost]) (25.0)\n",
            "Requirement already satisfied: sqlalchemy>=1.4.2 in /usr/local/lib/python3.12/dist-packages (from optuna->optuna-integration[xgboost]) (2.0.44)\n",
            "Requirement already satisfied: tqdm in /usr/local/lib/python3.12/dist-packages (from optuna->optuna-integration[xgboost]) (4.67.1)\n",
            "Requirement already satisfied: PyYAML in /usr/local/lib/python3.12/dist-packages (from optuna->optuna-integration[xgboost]) (6.0.3)\n",
            "Requirement already satisfied: nvidia-nccl-cu12 in /usr/local/lib/python3.12/dist-packages (from xgboost->optuna-integration[xgboost]) (2.27.3)\n",
            "Requirement already satisfied: scipy in /usr/local/lib/python3.12/dist-packages (from xgboost->optuna-integration[xgboost]) (1.16.2)\n",
            "Requirement already satisfied: Mako in /usr/local/lib/python3.12/dist-packages (from alembic>=1.5.0->optuna->optuna-integration[xgboost]) (1.3.10)\n",
            "Requirement already satisfied: typing-extensions>=4.12 in /usr/local/lib/python3.12/dist-packages (from alembic>=1.5.0->optuna->optuna-integration[xgboost]) (4.15.0)\n",
            "Requirement already satisfied: greenlet>=1 in /usr/local/lib/python3.12/dist-packages (from sqlalchemy>=1.4.2->optuna->optuna-integration[xgboost]) (3.2.4)\n",
            "Requirement already satisfied: MarkupSafe>=0.9.2 in /usr/local/lib/python3.12/dist-packages (from Mako->alembic>=1.5.0->optuna->optuna-integration[xgboost]) (3.0.3)\n"
          ]
        }
      ]
    },
    {
      "cell_type": "code",
      "source": [
        "study_xgb = optuna.create_study(direction='maximize')\n",
        "study_xgb.optimize(tune_xgb, n_trials=N_TRIALS)\n",
        "print(study_xgb.best_params)"
      ],
      "metadata": {
        "colab": {
          "base_uri": "https://localhost:8080/"
        },
        "id": "KMORRckFhw-J",
        "outputId": "b03eacdd-172d-48a3-b7a2-deb1ac614367"
      },
      "execution_count": 14,
      "outputs": [
        {
          "output_type": "stream",
          "name": "stderr",
          "text": [
            "[I 2025-10-30 12:28:11,527] A new study created in memory with name: no-name-c1b9c6da-699c-44c9-9f88-8556ddf1583e\n",
            "[I 2025-10-30 12:29:00,733] Trial 0 finished with value: 0.8349353884326652 and parameters: {'lambda': 9.195067900660605e-06, 'alpha': 0.036040893275239586, 'eta': 0.25861122616175036, 'max_depth': 8, 'subsample': 0.5483234167145933, 'colsample_bytree': 0.5415012763312896}. Best is trial 0 with value: 0.8349353884326652.\n",
            "[I 2025-10-30 12:29:38,172] Trial 1 finished with value: 0.8394020181890977 and parameters: {'lambda': 0.006890411443875094, 'alpha': 1.4057518467288166, 'eta': 0.2768373917025988, 'max_depth': 9, 'subsample': 0.5551733111951133, 'colsample_bytree': 0.5427453891164065}. Best is trial 1 with value: 0.8394020181890977.\n",
            "[I 2025-10-30 12:30:09,750] Trial 2 finished with value: 0.8334755947761482 and parameters: {'lambda': 0.0005929787358422983, 'alpha': 1.0959371537099853e-05, 'eta': 0.2642029371697858, 'max_depth': 8, 'subsample': 0.5987148459532774, 'colsample_bytree': 0.7821652693541694}. Best is trial 1 with value: 0.8394020181890977.\n",
            "[I 2025-10-30 12:33:00,411] Trial 3 finished with value: 0.8400044881559107 and parameters: {'lambda': 0.0003984145098066582, 'alpha': 9.250298529110522e-05, 'eta': 0.05207559396091602, 'max_depth': 4, 'subsample': 0.6303048612722766, 'colsample_bytree': 0.9178089574177413}. Best is trial 3 with value: 0.8400044881559107.\n",
            "[I 2025-10-30 12:33:50,887] Trial 4 finished with value: 0.8359082183042578 and parameters: {'lambda': 5.632236316148397e-05, 'alpha': 0.000686748568987502, 'eta': 0.14503101291891107, 'max_depth': 6, 'subsample': 0.8542653845137023, 'colsample_bytree': 0.6794149688964545}. Best is trial 3 with value: 0.8400044881559107.\n",
            "[I 2025-10-30 12:35:42,024] Trial 5 finished with value: 0.8397400062700582 and parameters: {'lambda': 0.5542030891424047, 'alpha': 0.37155345223659025, 'eta': 0.0447877286333896, 'max_depth': 10, 'subsample': 0.9800539750810249, 'colsample_bytree': 0.9567569246465388}. Best is trial 3 with value: 0.8400044881559107.\n",
            "[I 2025-10-30 12:36:55,446] Trial 6 finished with value: 0.8474247335569621 and parameters: {'lambda': 1.5853110188895376, 'alpha': 2.6502017759308028, 'eta': 0.18176560131242336, 'max_depth': 6, 'subsample': 0.6260755193961189, 'colsample_bytree': 0.9536619018376784}. Best is trial 6 with value: 0.8474247335569621.\n",
            "[I 2025-10-30 12:36:57,416] Trial 7 pruned. Trial was pruned at iteration 0.\n",
            "[I 2025-10-30 12:36:59,500] Trial 8 pruned. Trial was pruned at iteration 0.\n",
            "[I 2025-10-30 12:37:43,688] Trial 9 finished with value: 0.8424068553480525 and parameters: {'lambda': 7.436888525276017e-05, 'alpha': 0.00015926287884033264, 'eta': 0.14405620999539903, 'max_depth': 8, 'subsample': 0.5283688041758499, 'colsample_bytree': 0.8723302742661655}. Best is trial 6 with value: 0.8474247335569621.\n"
          ]
        },
        {
          "output_type": "stream",
          "name": "stdout",
          "text": [
            "{'lambda': 1.5853110188895376, 'alpha': 2.6502017759308028, 'eta': 0.18176560131242336, 'max_depth': 6, 'subsample': 0.6260755193961189, 'colsample_bytree': 0.9536619018376784}\n"
          ]
        }
      ]
    },
    {
      "cell_type": "code",
      "source": [
        "import lightgbm as lgb\n",
        "from optuna.integration import LightGBMPruningCallback\n",
        "from sklearn.metrics import average_precision_score\n",
        "\n",
        "\n",
        "def tune_lgb(trial):\n",
        "    params = {\n",
        "        'objective':'binary',\n",
        "        'metric':'binary_logloss', # Keep logloss for model training evaluation\n",
        "        'verbosity':-1,\n",
        "        'learning_rate': trial.suggest_float('lr',0.01,0.2),\n",
        "        'num_leaves': trial.suggest_int('num_leaves',31,256),\n",
        "        'max_depth': trial.suggest_int('max_depth',3,12),\n",
        "        'subsample': trial.suggest_float('subsample',0.6,1.0),\n",
        "        'colsample_bytree': trial.suggest_float('colsample',0.6,1.0),\n",
        "    }\n",
        "\n",
        "\n",
        "    cv = StratifiedKFold(N_FOLDS, shuffle=True, random_state=SEED)\n",
        "    scores = []\n",
        "    for tr, va in cv.split(X_train, y_train):\n",
        "        Xtr, ytr = X_train.iloc[tr], y_train.iloc[tr]\n",
        "        Xva, yva = X_train.iloc[va], y_train.iloc[va]\n",
        "        Xr, yr = SMOTE(random_state=SEED).fit_resample(Xtr, ytr)\n",
        "\n",
        "\n",
        "        tr_ds = lgb.Dataset(Xr, label=yr)\n",
        "        va_ds = lgb.Dataset(Xva, label=yva)\n",
        "\n",
        "        # Use average_precision_score for pruning, which aligns with the study's maximization direction\n",
        "        callbacks = [LightGBMPruningCallback(trial, 'average_precision_score', valid_name='valid')]\n",
        "        if ES_ROUNDS > 0:\n",
        "            callbacks.append(lgb.early_stopping(ES_ROUNDS, verbose=False))\n",
        "\n",
        "\n",
        "        model = lgb.train(params, tr_ds, 5000,\n",
        "                          valid_sets=[va_ds],\n",
        "                          valid_names=['valid'], # Explicitly name the validation set\n",
        "                          callbacks=callbacks,\n",
        "                          # Add feval to compute average_precision_score during training\n",
        "                          feval=lambda preds, train_data: ('average_precision_score', average_precision_score(train_data.get_label(), preds), True))\n",
        "\n",
        "\n",
        "        preds = model.predict(Xva)\n",
        "        scores.append(average_precision_score(yva, preds))\n",
        "\n",
        "\n",
        "    return np.mean(scores)"
      ],
      "metadata": {
        "id": "aiYTU8fRhzYq"
      },
      "execution_count": 15,
      "outputs": []
    },
    {
      "cell_type": "code",
      "source": [
        "\n",
        "study_lgb = optuna.create_study(direction='maximize')\n",
        "study_lgb.optimize(tune_lgb, n_trials=N_TRIALS)\n",
        "print(study_lgb.best_params)"
      ],
      "metadata": {
        "colab": {
          "base_uri": "https://localhost:8080/"
        },
        "id": "Icq-gD0nh2VB",
        "outputId": "13d35214-2e15-4810-f17b-0f2c0d75e73b"
      },
      "execution_count": 16,
      "outputs": [
        {
          "output_type": "stream",
          "name": "stderr",
          "text": [
            "[I 2025-10-30 12:37:46,235] A new study created in memory with name: no-name-d739e5a3-448f-433b-bb03-050c966f5740\n",
            "[I 2025-10-30 12:39:06,633] Trial 0 finished with value: 0.8227260605903539 and parameters: {'lr': 0.05768559663962252, 'num_leaves': 219, 'max_depth': 4, 'subsample': 0.9284042408698652, 'colsample': 0.8573740511656915}. Best is trial 0 with value: 0.8227260605903539.\n",
            "[I 2025-10-30 12:39:45,589] Trial 1 finished with value: 0.7828741954548667 and parameters: {'lr': 0.033444285279827034, 'num_leaves': 209, 'max_depth': 7, 'subsample': 0.6435889835880143, 'colsample': 0.6458738568251919}. Best is trial 0 with value: 0.8227260605903539.\n",
            "[I 2025-10-30 12:40:22,948] Trial 2 finished with value: 0.7339732334826041 and parameters: {'lr': 0.010090701787848506, 'num_leaves': 188, 'max_depth': 12, 'subsample': 0.9318775805401609, 'colsample': 0.8791350191020028}. Best is trial 0 with value: 0.8227260605903539.\n",
            "[I 2025-10-30 12:41:12,486] Trial 3 finished with value: 0.8272249006482983 and parameters: {'lr': 0.18700977720240425, 'num_leaves': 200, 'max_depth': 7, 'subsample': 0.699511524922683, 'colsample': 0.7407616486186887}. Best is trial 3 with value: 0.8272249006482983.\n",
            "[I 2025-10-30 12:42:10,484] Trial 4 finished with value: 0.831722873384804 and parameters: {'lr': 0.10228119757189791, 'num_leaves': 177, 'max_depth': 8, 'subsample': 0.8325507383054213, 'colsample': 0.6197959658290927}. Best is trial 4 with value: 0.831722873384804.\n",
            "[I 2025-10-30 12:42:12,700] Trial 5 pruned. Trial was pruned at iteration 0.\n",
            "[I 2025-10-30 12:42:15,652] Trial 6 pruned. Trial was pruned at iteration 0.\n",
            "[I 2025-10-30 12:42:17,686] Trial 7 pruned. Trial was pruned at iteration 1.\n",
            "[I 2025-10-30 12:42:19,702] Trial 8 pruned. Trial was pruned at iteration 0.\n",
            "[I 2025-10-30 12:42:21,721] Trial 9 pruned. Trial was pruned at iteration 0.\n"
          ]
        },
        {
          "output_type": "stream",
          "name": "stdout",
          "text": [
            "{'lr': 0.10228119757189791, 'num_leaves': 177, 'max_depth': 8, 'subsample': 0.8325507383054213, 'colsample': 0.6197959658290927}\n"
          ]
        }
      ]
    },
    {
      "cell_type": "code",
      "source": [
        "import tensorflow as tf\n",
        "from tensorflow.keras import layers, models\n",
        "\n",
        "\n",
        "def build_ae(trial, input_dim):\n",
        "    latent = trial.suggest_int('latent_dim', 4, 32)\n",
        "    hidden = trial.suggest_int('hidden_units', 32, 256)\n",
        "\n",
        "\n",
        "    inp = layers.Input(shape=(input_dim,))\n",
        "    x = layers.Dense(hidden, activation='relu')(inp)\n",
        "    x = layers.Dense(latent, activation='relu')(x)\n",
        "    x = layers.Dense(hidden, activation='relu')(x)\n",
        "    out = layers.Dense(input_dim)(x)\n",
        "    model = models.Model(inp, out)\n",
        "\n",
        "\n",
        "    lr = trial.suggest_float('lr',1e-4,1e-2,log=True)\n",
        "    model.compile(optimizer=tf.keras.optimizers.Adam(lr), loss='mse')\n",
        "    return model"
      ],
      "metadata": {
        "id": "n7N1OfGCh4uq"
      },
      "execution_count": 17,
      "outputs": []
    },
    {
      "cell_type": "code",
      "source": [
        "def tune_ae(trial):\n",
        "    X0 = X_train[y_train==0]\n",
        "    input_dim = X0.shape[1]\n",
        "    model = build_ae(trial, input_dim)\n",
        "    batch = trial.suggest_int('batch_size', 256, 2048)\n",
        "    epochs = trial.suggest_int('epochs', 5, 30)\n",
        "\n",
        "\n",
        "    hist = model.fit(X0, X0, batch_size=batch, epochs=epochs,\n",
        "    validation_split=0.1, verbose=0,\n",
        "    callbacks=[tf.keras.callbacks.EarlyStopping(patience=5, restore_best_weights=True)])\n",
        "\n",
        "\n",
        "    recon = model.predict(X_test)\n",
        "    mse = np.mean((recon - X_test)**2, axis=1)\n",
        "    return roc_auc_score(y_test, mse)"
      ],
      "metadata": {
        "id": "qH7J28q5h6qS"
      },
      "execution_count": 18,
      "outputs": []
    },
    {
      "cell_type": "code",
      "source": [
        "study_ae = optuna.create_study(direction='maximize')\n",
        "study_ae.optimize(tune_ae, n_trials=N_TRIALS)\n",
        "print(study_ae.best_params)"
      ],
      "metadata": {
        "colab": {
          "base_uri": "https://localhost:8080/"
        },
        "id": "Pb5b75Pqh8my",
        "outputId": "84c5007d-989e-4036-9c78-afb619304a52"
      },
      "execution_count": 19,
      "outputs": [
        {
          "output_type": "stream",
          "name": "stderr",
          "text": [
            "[I 2025-10-30 12:42:27,675] A new study created in memory with name: no-name-78b64dda-8e07-4d07-905e-f49b9eab7506\n"
          ]
        },
        {
          "output_type": "stream",
          "name": "stdout",
          "text": [
            "\u001b[1m1781/1781\u001b[0m \u001b[32m━━━━━━━━━━━━━━━━━━━━\u001b[0m\u001b[37m\u001b[0m \u001b[1m2s\u001b[0m 1ms/step\n"
          ]
        },
        {
          "output_type": "stream",
          "name": "stderr",
          "text": [
            "[I 2025-10-30 12:42:46,406] Trial 0 finished with value: 0.9620212709450691 and parameters: {'latent_dim': 25, 'hidden_units': 145, 'lr': 0.009019163861055642, 'batch_size': 1589, 'epochs': 9}. Best is trial 0 with value: 0.9620212709450691.\n"
          ]
        },
        {
          "output_type": "stream",
          "name": "stdout",
          "text": [
            "\u001b[1m1781/1781\u001b[0m \u001b[32m━━━━━━━━━━━━━━━━━━━━\u001b[0m\u001b[37m\u001b[0m \u001b[1m2s\u001b[0m 1ms/step\n"
          ]
        },
        {
          "output_type": "stream",
          "name": "stderr",
          "text": [
            "[I 2025-10-30 12:43:25,430] Trial 1 finished with value: 0.9557659234205782 and parameters: {'latent_dim': 15, 'hidden_units': 159, 'lr': 0.00043376053833179445, 'batch_size': 700, 'epochs': 19}. Best is trial 0 with value: 0.9620212709450691.\n"
          ]
        },
        {
          "output_type": "stream",
          "name": "stdout",
          "text": [
            "\u001b[1m1781/1781\u001b[0m \u001b[32m━━━━━━━━━━━━━━━━━━━━\u001b[0m\u001b[37m\u001b[0m \u001b[1m2s\u001b[0m 1ms/step\n"
          ]
        },
        {
          "output_type": "stream",
          "name": "stderr",
          "text": [
            "[I 2025-10-30 12:43:50,785] Trial 2 finished with value: 0.9501023925327025 and parameters: {'latent_dim': 9, 'hidden_units': 186, 'lr': 0.0006879510651767478, 'batch_size': 1302, 'epochs': 15}. Best is trial 0 with value: 0.9620212709450691.\n"
          ]
        },
        {
          "output_type": "stream",
          "name": "stdout",
          "text": [
            "\u001b[1m1781/1781\u001b[0m \u001b[32m━━━━━━━━━━━━━━━━━━━━\u001b[0m\u001b[37m\u001b[0m \u001b[1m2s\u001b[0m 1ms/step\n"
          ]
        },
        {
          "output_type": "stream",
          "name": "stderr",
          "text": [
            "[I 2025-10-30 12:44:51,324] Trial 3 finished with value: 0.9619200627634285 and parameters: {'latent_dim': 31, 'hidden_units': 247, 'lr': 0.0013440766480262143, 'batch_size': 1427, 'epochs': 27}. Best is trial 0 with value: 0.9620212709450691.\n"
          ]
        },
        {
          "output_type": "stream",
          "name": "stdout",
          "text": [
            "\u001b[1m1781/1781\u001b[0m \u001b[32m━━━━━━━━━━━━━━━━━━━━\u001b[0m\u001b[37m\u001b[0m \u001b[1m2s\u001b[0m 1ms/step\n"
          ]
        },
        {
          "output_type": "stream",
          "name": "stderr",
          "text": [
            "[I 2025-10-30 12:45:17,891] Trial 4 finished with value: 0.9605148122839458 and parameters: {'latent_dim': 22, 'hidden_units': 245, 'lr': 0.0012393302848956384, 'batch_size': 848, 'epochs': 10}. Best is trial 0 with value: 0.9620212709450691.\n"
          ]
        },
        {
          "output_type": "stream",
          "name": "stdout",
          "text": [
            "\u001b[1m1781/1781\u001b[0m \u001b[32m━━━━━━━━━━━━━━━━━━━━\u001b[0m\u001b[37m\u001b[0m \u001b[1m2s\u001b[0m 1ms/step\n"
          ]
        },
        {
          "output_type": "stream",
          "name": "stderr",
          "text": [
            "[I 2025-10-30 12:45:58,778] Trial 5 finished with value: 0.9582535989916506 and parameters: {'latent_dim': 27, 'hidden_units': 81, 'lr': 0.00013521696712066856, 'batch_size': 872, 'epochs': 28}. Best is trial 0 with value: 0.9620212709450691.\n"
          ]
        },
        {
          "output_type": "stream",
          "name": "stdout",
          "text": [
            "\u001b[1m1781/1781\u001b[0m \u001b[32m━━━━━━━━━━━━━━━━━━━━\u001b[0m\u001b[37m\u001b[0m \u001b[1m2s\u001b[0m 1ms/step\n"
          ]
        },
        {
          "output_type": "stream",
          "name": "stderr",
          "text": [
            "[I 2025-10-30 12:46:22,458] Trial 6 finished with value: 0.963020432568075 and parameters: {'latent_dim': 14, 'hidden_units': 103, 'lr': 0.00964329949820501, 'batch_size': 1347, 'epochs': 16}. Best is trial 6 with value: 0.963020432568075.\n"
          ]
        },
        {
          "output_type": "stream",
          "name": "stdout",
          "text": [
            "\u001b[1m1781/1781\u001b[0m \u001b[32m━━━━━━━━━━━━━━━━━━━━\u001b[0m\u001b[37m\u001b[0m \u001b[1m2s\u001b[0m 1ms/step\n"
          ]
        },
        {
          "output_type": "stream",
          "name": "stderr",
          "text": [
            "[I 2025-10-30 12:46:59,033] Trial 7 finished with value: 0.9556622029791095 and parameters: {'latent_dim': 29, 'hidden_units': 91, 'lr': 0.000727948333221323, 'batch_size': 1601, 'epochs': 29}. Best is trial 6 with value: 0.963020432568075.\n"
          ]
        },
        {
          "output_type": "stream",
          "name": "stdout",
          "text": [
            "\u001b[1m1781/1781\u001b[0m \u001b[32m━━━━━━━━━━━━━━━━━━━━\u001b[0m\u001b[37m\u001b[0m \u001b[1m2s\u001b[0m 1ms/step\n"
          ]
        },
        {
          "output_type": "stream",
          "name": "stderr",
          "text": [
            "[I 2025-10-30 12:47:20,813] Trial 8 finished with value: 0.9642803308717972 and parameters: {'latent_dim': 19, 'hidden_units': 235, 'lr': 0.008287719705782716, 'batch_size': 2012, 'epochs': 11}. Best is trial 8 with value: 0.9642803308717972.\n"
          ]
        },
        {
          "output_type": "stream",
          "name": "stdout",
          "text": [
            "\u001b[1m1781/1781\u001b[0m \u001b[32m━━━━━━━━━━━━━━━━━━━━\u001b[0m\u001b[37m\u001b[0m \u001b[1m2s\u001b[0m 1ms/step\n"
          ]
        },
        {
          "output_type": "stream",
          "name": "stderr",
          "text": [
            "[I 2025-10-30 12:48:02,768] Trial 9 finished with value: 0.9528739534643347 and parameters: {'latent_dim': 9, 'hidden_units': 168, 'lr': 0.00674476610329071, 'batch_size': 973, 'epochs': 25}. Best is trial 8 with value: 0.9642803308717972.\n"
          ]
        },
        {
          "output_type": "stream",
          "name": "stdout",
          "text": [
            "{'latent_dim': 19, 'hidden_units': 235, 'lr': 0.008287719705782716, 'batch_size': 2012, 'epochs': 11}\n"
          ]
        }
      ]
    },
    {
      "cell_type": "code",
      "source": [
        "# Resample train (SMOTE) and retrain final tuned models\n",
        "Xr, yr = SMOTE(random_state=SEED).fit_resample(X_train, y_train)\n",
        "\n",
        "# Ensure models directory exists\n",
        "import os\n",
        "os.makedirs('models', exist_ok=True)\n",
        "\n",
        "# XGBoost final\n",
        "xgb_params = study_xgb.best_params\n",
        "xgb_params.update({'objective':'binary:logistic','eval_metric':'logloss','tree_method':'hist'})\n",
        "dtr = xgb.DMatrix(Xr, label=yr)\n",
        "dtest = xgb.DMatrix(X_test, label=y_test) # Create DMatrix for test set\n",
        "final_xgb = xgb.train(xgb_params, dtr, num_boost_round=2000,\n",
        "                      evals=[(dtest, 'test')], # Add test set as evaluation set\n",
        "                      early_stopping_rounds=ES_ROUNDS)\n",
        "joblib.dump(final_xgb, 'models/xgb_optuna.pkl')\n",
        "\n",
        "# LightGBM final\n",
        "lgb_params = study_lgb.best_params\n",
        "lgb_params.update({'objective':'binary','metric':'binary_logloss','verbosity':-1})\n",
        "# LightGBM also needs a validation set for early stopping in the final training\n",
        "final_lgb = lgb.train(lgb_params, lgb.Dataset(Xr, label=yr), num_boost_round=2000,\n",
        "                      valid_sets=[lgb.Dataset(X_test, label=y_test)], # Add test set as validation set\n",
        "                      callbacks=[lgb.early_stopping(ES_ROUNDS, verbose=False)]) # Pass early stopping as a callback\n",
        "joblib.dump(final_lgb, 'models/lgb_optuna.pkl')"
      ],
      "metadata": {
        "colab": {
          "base_uri": "https://localhost:8080/"
        },
        "id": "BWHpq_jSh-XK",
        "outputId": "4ef6b8f4-00d7-4fbc-c992-b61edcfb4286"
      },
      "execution_count": 20,
      "outputs": [
        {
          "output_type": "stream",
          "name": "stdout",
          "text": [
            "[0]\ttest-logloss:0.54517\n",
            "[1]\ttest-logloss:0.44198\n",
            "[2]\ttest-logloss:0.36336\n",
            "[3]\ttest-logloss:0.30458\n",
            "[4]\ttest-logloss:0.25689\n",
            "[5]\ttest-logloss:0.21921\n",
            "[6]\ttest-logloss:0.18826\n",
            "[7]\ttest-logloss:0.16312\n",
            "[8]\ttest-logloss:0.14261\n",
            "[9]\ttest-logloss:0.12571\n",
            "[10]\ttest-logloss:0.11136\n",
            "[11]\ttest-logloss:0.09953\n",
            "[12]\ttest-logloss:0.09003\n",
            "[13]\ttest-logloss:0.08221\n",
            "[14]\ttest-logloss:0.07548\n",
            "[15]\ttest-logloss:0.07004\n",
            "[16]\ttest-logloss:0.06508\n",
            "[17]\ttest-logloss:0.06132\n",
            "[18]\ttest-logloss:0.05790\n",
            "[19]\ttest-logloss:0.05458\n",
            "[20]\ttest-logloss:0.05179\n",
            "[21]\ttest-logloss:0.04868\n",
            "[22]\ttest-logloss:0.04643\n",
            "[23]\ttest-logloss:0.04410\n",
            "[24]\ttest-logloss:0.04221\n",
            "[25]\ttest-logloss:0.04065\n",
            "[26]\ttest-logloss:0.03840\n",
            "[27]\ttest-logloss:0.03725\n",
            "[28]\ttest-logloss:0.03577\n",
            "[29]\ttest-logloss:0.03411\n",
            "[30]\ttest-logloss:0.03301\n",
            "[31]\ttest-logloss:0.03226\n",
            "[32]\ttest-logloss:0.03168\n",
            "[33]\ttest-logloss:0.03045\n",
            "[34]\ttest-logloss:0.02940\n",
            "[35]\ttest-logloss:0.02857\n",
            "[36]\ttest-logloss:0.02786\n",
            "[37]\ttest-logloss:0.02721\n",
            "[38]\ttest-logloss:0.02659\n",
            "[39]\ttest-logloss:0.02554\n",
            "[40]\ttest-logloss:0.02435\n",
            "[41]\ttest-logloss:0.02360\n",
            "[42]\ttest-logloss:0.02283\n",
            "[43]\ttest-logloss:0.02210\n",
            "[44]\ttest-logloss:0.02138\n",
            "[45]\ttest-logloss:0.02083\n",
            "[46]\ttest-logloss:0.02025\n",
            "[47]\ttest-logloss:0.01965\n",
            "[48]\ttest-logloss:0.01883\n",
            "[49]\ttest-logloss:0.01822\n",
            "[50]\ttest-logloss:0.01777\n",
            "[51]\ttest-logloss:0.01734\n",
            "[52]\ttest-logloss:0.01683\n",
            "[53]\ttest-logloss:0.01633\n",
            "[54]\ttest-logloss:0.01576\n",
            "[55]\ttest-logloss:0.01506\n",
            "[56]\ttest-logloss:0.01485\n",
            "[57]\ttest-logloss:0.01431\n",
            "[58]\ttest-logloss:0.01393\n",
            "[59]\ttest-logloss:0.01360\n",
            "[60]\ttest-logloss:0.01329\n",
            "[61]\ttest-logloss:0.01295\n",
            "[62]\ttest-logloss:0.01289\n",
            "[63]\ttest-logloss:0.01240\n",
            "[64]\ttest-logloss:0.01228\n",
            "[65]\ttest-logloss:0.01203\n",
            "[66]\ttest-logloss:0.01160\n",
            "[67]\ttest-logloss:0.01130\n",
            "[68]\ttest-logloss:0.01110\n",
            "[69]\ttest-logloss:0.01083\n",
            "[70]\ttest-logloss:0.01050\n",
            "[71]\ttest-logloss:0.01021\n",
            "[72]\ttest-logloss:0.00992\n",
            "[73]\ttest-logloss:0.00978\n",
            "[74]\ttest-logloss:0.00961\n",
            "[75]\ttest-logloss:0.00940\n",
            "[76]\ttest-logloss:0.00930\n",
            "[77]\ttest-logloss:0.00914\n",
            "[78]\ttest-logloss:0.00888\n",
            "[79]\ttest-logloss:0.00862\n",
            "[80]\ttest-logloss:0.00835\n",
            "[81]\ttest-logloss:0.00818\n",
            "[82]\ttest-logloss:0.00800\n",
            "[83]\ttest-logloss:0.00781\n",
            "[84]\ttest-logloss:0.00766\n",
            "[85]\ttest-logloss:0.00752\n",
            "[86]\ttest-logloss:0.00740\n",
            "[87]\ttest-logloss:0.00719\n",
            "[88]\ttest-logloss:0.00707\n",
            "[89]\ttest-logloss:0.00696\n",
            "[90]\ttest-logloss:0.00685\n",
            "[91]\ttest-logloss:0.00677\n",
            "[92]\ttest-logloss:0.00663\n",
            "[93]\ttest-logloss:0.00653\n",
            "[94]\ttest-logloss:0.00644\n",
            "[95]\ttest-logloss:0.00639\n",
            "[96]\ttest-logloss:0.00629\n",
            "[97]\ttest-logloss:0.00617\n",
            "[98]\ttest-logloss:0.00607\n",
            "[99]\ttest-logloss:0.00600\n",
            "[100]\ttest-logloss:0.00589\n",
            "[101]\ttest-logloss:0.00579\n",
            "[102]\ttest-logloss:0.00568\n",
            "[103]\ttest-logloss:0.00559\n",
            "[104]\ttest-logloss:0.00551\n",
            "[105]\ttest-logloss:0.00548\n",
            "[106]\ttest-logloss:0.00543\n",
            "[107]\ttest-logloss:0.00538\n",
            "[108]\ttest-logloss:0.00531\n",
            "[109]\ttest-logloss:0.00522\n",
            "[110]\ttest-logloss:0.00514\n",
            "[111]\ttest-logloss:0.00506\n",
            "[112]\ttest-logloss:0.00501\n",
            "[113]\ttest-logloss:0.00495\n",
            "[114]\ttest-logloss:0.00492\n",
            "[115]\ttest-logloss:0.00488\n",
            "[116]\ttest-logloss:0.00481\n",
            "[117]\ttest-logloss:0.00478\n",
            "[118]\ttest-logloss:0.00475\n",
            "[119]\ttest-logloss:0.00471\n",
            "[120]\ttest-logloss:0.00465\n",
            "[121]\ttest-logloss:0.00464\n",
            "[122]\ttest-logloss:0.00459\n",
            "[123]\ttest-logloss:0.00455\n",
            "[124]\ttest-logloss:0.00449\n",
            "[125]\ttest-logloss:0.00446\n",
            "[126]\ttest-logloss:0.00443\n",
            "[127]\ttest-logloss:0.00439\n",
            "[128]\ttest-logloss:0.00435\n",
            "[129]\ttest-logloss:0.00433\n",
            "[130]\ttest-logloss:0.00432\n",
            "[131]\ttest-logloss:0.00429\n",
            "[132]\ttest-logloss:0.00426\n",
            "[133]\ttest-logloss:0.00421\n",
            "[134]\ttest-logloss:0.00419\n",
            "[135]\ttest-logloss:0.00416\n",
            "[136]\ttest-logloss:0.00415\n",
            "[137]\ttest-logloss:0.00413\n",
            "[138]\ttest-logloss:0.00413\n",
            "[139]\ttest-logloss:0.00411\n",
            "[140]\ttest-logloss:0.00410\n",
            "[141]\ttest-logloss:0.00409\n",
            "[142]\ttest-logloss:0.00408\n",
            "[143]\ttest-logloss:0.00406\n",
            "[144]\ttest-logloss:0.00404\n",
            "[145]\ttest-logloss:0.00403\n",
            "[146]\ttest-logloss:0.00401\n",
            "[147]\ttest-logloss:0.00398\n",
            "[148]\ttest-logloss:0.00397\n",
            "[149]\ttest-logloss:0.00395\n",
            "[150]\ttest-logloss:0.00394\n",
            "[151]\ttest-logloss:0.00393\n",
            "[152]\ttest-logloss:0.00392\n",
            "[153]\ttest-logloss:0.00390\n",
            "[154]\ttest-logloss:0.00389\n",
            "[155]\ttest-logloss:0.00388\n",
            "[156]\ttest-logloss:0.00386\n",
            "[157]\ttest-logloss:0.00386\n",
            "[158]\ttest-logloss:0.00385\n",
            "[159]\ttest-logloss:0.00384\n",
            "[160]\ttest-logloss:0.00382\n",
            "[161]\ttest-logloss:0.00379\n",
            "[162]\ttest-logloss:0.00377\n",
            "[163]\ttest-logloss:0.00375\n",
            "[164]\ttest-logloss:0.00375\n",
            "[165]\ttest-logloss:0.00374\n",
            "[166]\ttest-logloss:0.00373\n",
            "[167]\ttest-logloss:0.00372\n",
            "[168]\ttest-logloss:0.00372\n",
            "[169]\ttest-logloss:0.00372\n",
            "[170]\ttest-logloss:0.00371\n",
            "[171]\ttest-logloss:0.00370\n",
            "[172]\ttest-logloss:0.00370\n",
            "[173]\ttest-logloss:0.00370\n",
            "[174]\ttest-logloss:0.00369\n",
            "[175]\ttest-logloss:0.00370\n",
            "[176]\ttest-logloss:0.00368\n",
            "[177]\ttest-logloss:0.00366\n",
            "[178]\ttest-logloss:0.00364\n",
            "[179]\ttest-logloss:0.00364\n",
            "[180]\ttest-logloss:0.00364\n",
            "[181]\ttest-logloss:0.00362\n",
            "[182]\ttest-logloss:0.00362\n",
            "[183]\ttest-logloss:0.00362\n",
            "[184]\ttest-logloss:0.00363\n",
            "[185]\ttest-logloss:0.00363\n",
            "[186]\ttest-logloss:0.00362\n",
            "[187]\ttest-logloss:0.00363\n",
            "[188]\ttest-logloss:0.00362\n",
            "[189]\ttest-logloss:0.00361\n",
            "[190]\ttest-logloss:0.00361\n",
            "[191]\ttest-logloss:0.00360\n",
            "[192]\ttest-logloss:0.00360\n",
            "[193]\ttest-logloss:0.00358\n",
            "[194]\ttest-logloss:0.00357\n",
            "[195]\ttest-logloss:0.00356\n",
            "[196]\ttest-logloss:0.00356\n",
            "[197]\ttest-logloss:0.00356\n",
            "[198]\ttest-logloss:0.00355\n",
            "[199]\ttest-logloss:0.00355\n",
            "[200]\ttest-logloss:0.00354\n",
            "[201]\ttest-logloss:0.00354\n",
            "[202]\ttest-logloss:0.00354\n",
            "[203]\ttest-logloss:0.00353\n",
            "[204]\ttest-logloss:0.00353\n",
            "[205]\ttest-logloss:0.00353\n",
            "[206]\ttest-logloss:0.00353\n",
            "[207]\ttest-logloss:0.00353\n",
            "[208]\ttest-logloss:0.00352\n",
            "[209]\ttest-logloss:0.00352\n",
            "[210]\ttest-logloss:0.00352\n",
            "[211]\ttest-logloss:0.00352\n",
            "[212]\ttest-logloss:0.00351\n",
            "[213]\ttest-logloss:0.00351\n",
            "[214]\ttest-logloss:0.00350\n",
            "[215]\ttest-logloss:0.00351\n",
            "[216]\ttest-logloss:0.00350\n",
            "[217]\ttest-logloss:0.00349\n",
            "[218]\ttest-logloss:0.00349\n",
            "[219]\ttest-logloss:0.00349\n",
            "[220]\ttest-logloss:0.00349\n",
            "[221]\ttest-logloss:0.00349\n",
            "[222]\ttest-logloss:0.00348\n",
            "[223]\ttest-logloss:0.00347\n",
            "[224]\ttest-logloss:0.00348\n",
            "[225]\ttest-logloss:0.00348\n",
            "[226]\ttest-logloss:0.00347\n",
            "[227]\ttest-logloss:0.00347\n",
            "[228]\ttest-logloss:0.00346\n",
            "[229]\ttest-logloss:0.00347\n",
            "[230]\ttest-logloss:0.00347\n",
            "[231]\ttest-logloss:0.00346\n",
            "[232]\ttest-logloss:0.00346\n",
            "[233]\ttest-logloss:0.00345\n",
            "[234]\ttest-logloss:0.00345\n",
            "[235]\ttest-logloss:0.00345\n",
            "[236]\ttest-logloss:0.00345\n",
            "[237]\ttest-logloss:0.00345\n",
            "[238]\ttest-logloss:0.00345\n",
            "[239]\ttest-logloss:0.00345\n",
            "[240]\ttest-logloss:0.00345\n",
            "[241]\ttest-logloss:0.00344\n",
            "[242]\ttest-logloss:0.00345\n",
            "[243]\ttest-logloss:0.00345\n",
            "[244]\ttest-logloss:0.00345\n",
            "[245]\ttest-logloss:0.00344\n",
            "[246]\ttest-logloss:0.00343\n",
            "[247]\ttest-logloss:0.00343\n",
            "[248]\ttest-logloss:0.00343\n",
            "[249]\ttest-logloss:0.00343\n",
            "[250]\ttest-logloss:0.00343\n",
            "[251]\ttest-logloss:0.00343\n",
            "[252]\ttest-logloss:0.00343\n",
            "[253]\ttest-logloss:0.00344\n",
            "[254]\ttest-logloss:0.00343\n",
            "[255]\ttest-logloss:0.00343\n",
            "[256]\ttest-logloss:0.00343\n",
            "[257]\ttest-logloss:0.00342\n",
            "[258]\ttest-logloss:0.00342\n",
            "[259]\ttest-logloss:0.00342\n",
            "[260]\ttest-logloss:0.00343\n",
            "[261]\ttest-logloss:0.00342\n",
            "[262]\ttest-logloss:0.00342\n",
            "[263]\ttest-logloss:0.00342\n",
            "[264]\ttest-logloss:0.00341\n",
            "[265]\ttest-logloss:0.00342\n",
            "[266]\ttest-logloss:0.00341\n",
            "[267]\ttest-logloss:0.00341\n",
            "[268]\ttest-logloss:0.00341\n",
            "[269]\ttest-logloss:0.00340\n",
            "[270]\ttest-logloss:0.00340\n",
            "[271]\ttest-logloss:0.00340\n",
            "[272]\ttest-logloss:0.00340\n",
            "[273]\ttest-logloss:0.00340\n",
            "[274]\ttest-logloss:0.00340\n",
            "[275]\ttest-logloss:0.00340\n",
            "[276]\ttest-logloss:0.00340\n",
            "[277]\ttest-logloss:0.00340\n",
            "[278]\ttest-logloss:0.00340\n",
            "[279]\ttest-logloss:0.00339\n",
            "[280]\ttest-logloss:0.00339\n",
            "[281]\ttest-logloss:0.00340\n",
            "[282]\ttest-logloss:0.00340\n",
            "[283]\ttest-logloss:0.00339\n",
            "[284]\ttest-logloss:0.00338\n",
            "[285]\ttest-logloss:0.00338\n",
            "[286]\ttest-logloss:0.00338\n",
            "[287]\ttest-logloss:0.00338\n",
            "[288]\ttest-logloss:0.00338\n",
            "[289]\ttest-logloss:0.00338\n",
            "[290]\ttest-logloss:0.00338\n",
            "[291]\ttest-logloss:0.00337\n",
            "[292]\ttest-logloss:0.00337\n",
            "[293]\ttest-logloss:0.00337\n",
            "[294]\ttest-logloss:0.00337\n",
            "[295]\ttest-logloss:0.00337\n",
            "[296]\ttest-logloss:0.00336\n",
            "[297]\ttest-logloss:0.00337\n",
            "[298]\ttest-logloss:0.00337\n",
            "[299]\ttest-logloss:0.00337\n",
            "[300]\ttest-logloss:0.00337\n",
            "[301]\ttest-logloss:0.00336\n",
            "[302]\ttest-logloss:0.00336\n",
            "[303]\ttest-logloss:0.00336\n",
            "[304]\ttest-logloss:0.00336\n",
            "[305]\ttest-logloss:0.00335\n",
            "[306]\ttest-logloss:0.00335\n",
            "[307]\ttest-logloss:0.00336\n",
            "[308]\ttest-logloss:0.00336\n",
            "[309]\ttest-logloss:0.00336\n",
            "[310]\ttest-logloss:0.00336\n",
            "[311]\ttest-logloss:0.00336\n",
            "[312]\ttest-logloss:0.00336\n",
            "[313]\ttest-logloss:0.00335\n",
            "[314]\ttest-logloss:0.00336\n",
            "[315]\ttest-logloss:0.00335\n",
            "[316]\ttest-logloss:0.00336\n",
            "[317]\ttest-logloss:0.00336\n",
            "[318]\ttest-logloss:0.00335\n",
            "[319]\ttest-logloss:0.00336\n",
            "[320]\ttest-logloss:0.00336\n",
            "[321]\ttest-logloss:0.00336\n",
            "[322]\ttest-logloss:0.00336\n",
            "[323]\ttest-logloss:0.00335\n",
            "[324]\ttest-logloss:0.00335\n",
            "[325]\ttest-logloss:0.00335\n",
            "[326]\ttest-logloss:0.00335\n",
            "[327]\ttest-logloss:0.00335\n",
            "[328]\ttest-logloss:0.00335\n",
            "[329]\ttest-logloss:0.00335\n",
            "[330]\ttest-logloss:0.00336\n",
            "[331]\ttest-logloss:0.00336\n",
            "[332]\ttest-logloss:0.00336\n",
            "[333]\ttest-logloss:0.00336\n",
            "[334]\ttest-logloss:0.00335\n",
            "[335]\ttest-logloss:0.00335\n",
            "[336]\ttest-logloss:0.00335\n",
            "[337]\ttest-logloss:0.00335\n",
            "[338]\ttest-logloss:0.00335\n",
            "[339]\ttest-logloss:0.00335\n",
            "[340]\ttest-logloss:0.00335\n",
            "[341]\ttest-logloss:0.00335\n",
            "[342]\ttest-logloss:0.00335\n",
            "[343]\ttest-logloss:0.00335\n",
            "[344]\ttest-logloss:0.00335\n",
            "[345]\ttest-logloss:0.00335\n",
            "[346]\ttest-logloss:0.00335\n",
            "[347]\ttest-logloss:0.00334\n",
            "[348]\ttest-logloss:0.00334\n",
            "[349]\ttest-logloss:0.00334\n",
            "[350]\ttest-logloss:0.00334\n",
            "[351]\ttest-logloss:0.00334\n",
            "[352]\ttest-logloss:0.00333\n",
            "[353]\ttest-logloss:0.00333\n",
            "[354]\ttest-logloss:0.00333\n",
            "[355]\ttest-logloss:0.00333\n",
            "[356]\ttest-logloss:0.00333\n",
            "[357]\ttest-logloss:0.00333\n",
            "[358]\ttest-logloss:0.00333\n",
            "[359]\ttest-logloss:0.00333\n",
            "[360]\ttest-logloss:0.00333\n",
            "[361]\ttest-logloss:0.00333\n",
            "[362]\ttest-logloss:0.00333\n",
            "[363]\ttest-logloss:0.00333\n",
            "[364]\ttest-logloss:0.00333\n",
            "[365]\ttest-logloss:0.00333\n",
            "[366]\ttest-logloss:0.00333\n",
            "[367]\ttest-logloss:0.00333\n",
            "[368]\ttest-logloss:0.00333\n",
            "[369]\ttest-logloss:0.00333\n",
            "[370]\ttest-logloss:0.00333\n",
            "[371]\ttest-logloss:0.00332\n",
            "[372]\ttest-logloss:0.00332\n",
            "[373]\ttest-logloss:0.00332\n",
            "[374]\ttest-logloss:0.00332\n",
            "[375]\ttest-logloss:0.00332\n",
            "[376]\ttest-logloss:0.00332\n",
            "[377]\ttest-logloss:0.00333\n",
            "[378]\ttest-logloss:0.00333\n",
            "[379]\ttest-logloss:0.00333\n",
            "[380]\ttest-logloss:0.00332\n",
            "[381]\ttest-logloss:0.00332\n",
            "[382]\ttest-logloss:0.00332\n",
            "[383]\ttest-logloss:0.00332\n",
            "[384]\ttest-logloss:0.00332\n",
            "[385]\ttest-logloss:0.00332\n",
            "[386]\ttest-logloss:0.00332\n",
            "[387]\ttest-logloss:0.00332\n",
            "[388]\ttest-logloss:0.00333\n",
            "[389]\ttest-logloss:0.00333\n",
            "[390]\ttest-logloss:0.00332\n",
            "[391]\ttest-logloss:0.00332\n",
            "[392]\ttest-logloss:0.00332\n",
            "[393]\ttest-logloss:0.00331\n",
            "[394]\ttest-logloss:0.00331\n",
            "[395]\ttest-logloss:0.00331\n",
            "[396]\ttest-logloss:0.00331\n",
            "[397]\ttest-logloss:0.00331\n",
            "[398]\ttest-logloss:0.00331\n",
            "[399]\ttest-logloss:0.00330\n",
            "[400]\ttest-logloss:0.00330\n",
            "[401]\ttest-logloss:0.00330\n",
            "[402]\ttest-logloss:0.00331\n",
            "[403]\ttest-logloss:0.00331\n",
            "[404]\ttest-logloss:0.00330\n",
            "[405]\ttest-logloss:0.00330\n",
            "[406]\ttest-logloss:0.00330\n",
            "[407]\ttest-logloss:0.00330\n",
            "[408]\ttest-logloss:0.00330\n",
            "[409]\ttest-logloss:0.00330\n",
            "[410]\ttest-logloss:0.00330\n",
            "[411]\ttest-logloss:0.00330\n",
            "[412]\ttest-logloss:0.00330\n",
            "[413]\ttest-logloss:0.00330\n",
            "[414]\ttest-logloss:0.00330\n",
            "[415]\ttest-logloss:0.00330\n",
            "[416]\ttest-logloss:0.00330\n",
            "[417]\ttest-logloss:0.00330\n",
            "[418]\ttest-logloss:0.00330\n",
            "[419]\ttest-logloss:0.00330\n",
            "[420]\ttest-logloss:0.00330\n",
            "[421]\ttest-logloss:0.00330\n",
            "[422]\ttest-logloss:0.00330\n",
            "[423]\ttest-logloss:0.00330\n",
            "[424]\ttest-logloss:0.00329\n",
            "[425]\ttest-logloss:0.00329\n",
            "[426]\ttest-logloss:0.00329\n",
            "[427]\ttest-logloss:0.00329\n",
            "[428]\ttest-logloss:0.00329\n",
            "[429]\ttest-logloss:0.00329\n",
            "[430]\ttest-logloss:0.00330\n",
            "[431]\ttest-logloss:0.00329\n",
            "[432]\ttest-logloss:0.00329\n",
            "[433]\ttest-logloss:0.00329\n",
            "[434]\ttest-logloss:0.00329\n",
            "[435]\ttest-logloss:0.00329\n",
            "[436]\ttest-logloss:0.00329\n",
            "[437]\ttest-logloss:0.00329\n",
            "[438]\ttest-logloss:0.00329\n",
            "[439]\ttest-logloss:0.00329\n",
            "[440]\ttest-logloss:0.00329\n",
            "[441]\ttest-logloss:0.00328\n",
            "[442]\ttest-logloss:0.00328\n",
            "[443]\ttest-logloss:0.00329\n",
            "[444]\ttest-logloss:0.00329\n",
            "[445]\ttest-logloss:0.00329\n",
            "[446]\ttest-logloss:0.00329\n",
            "[447]\ttest-logloss:0.00329\n",
            "[448]\ttest-logloss:0.00329\n",
            "[449]\ttest-logloss:0.00329\n",
            "[450]\ttest-logloss:0.00329\n",
            "[451]\ttest-logloss:0.00329\n",
            "[452]\ttest-logloss:0.00329\n",
            "[453]\ttest-logloss:0.00329\n",
            "[454]\ttest-logloss:0.00329\n",
            "[455]\ttest-logloss:0.00329\n",
            "[456]\ttest-logloss:0.00329\n",
            "[457]\ttest-logloss:0.00329\n",
            "[458]\ttest-logloss:0.00329\n",
            "[459]\ttest-logloss:0.00330\n",
            "[460]\ttest-logloss:0.00330\n",
            "[461]\ttest-logloss:0.00330\n",
            "[462]\ttest-logloss:0.00329\n",
            "[463]\ttest-logloss:0.00329\n",
            "[464]\ttest-logloss:0.00329\n",
            "[465]\ttest-logloss:0.00329\n",
            "[466]\ttest-logloss:0.00329\n",
            "[467]\ttest-logloss:0.00329\n",
            "[468]\ttest-logloss:0.00329\n",
            "[469]\ttest-logloss:0.00330\n",
            "[470]\ttest-logloss:0.00330\n",
            "[471]\ttest-logloss:0.00330\n",
            "[472]\ttest-logloss:0.00330\n",
            "[473]\ttest-logloss:0.00330\n",
            "[474]\ttest-logloss:0.00329\n",
            "[475]\ttest-logloss:0.00329\n",
            "[476]\ttest-logloss:0.00329\n",
            "[477]\ttest-logloss:0.00329\n",
            "[478]\ttest-logloss:0.00329\n",
            "[479]\ttest-logloss:0.00329\n",
            "[480]\ttest-logloss:0.00329\n",
            "[481]\ttest-logloss:0.00329\n"
          ]
        },
        {
          "output_type": "execute_result",
          "data": {
            "text/plain": [
              "['models/lgb_optuna.pkl']"
            ]
          },
          "metadata": {},
          "execution_count": 20
        }
      ]
    },
    {
      "cell_type": "code",
      "source": [
        "px = final_xgb.predict(xgb.DMatrix(X_test))\n",
        "pl = final_lgb.predict(X_test)\n",
        "\n",
        "\n",
        "print('XGB AP:', average_precision_score(y_test, px))\n",
        "print('LGB AP:', average_precision_score(y_test, pl))\n",
        "print('Precision@1% XGB:', precision_at_k(y_test.reset_index(drop=True), pd.Series(px), k=0.01))\n",
        "\n",
        "\n",
        "plot_pr(y_test, px, 'XGB')\n",
        "plot_pr(y_test, pl, 'LGB')\n",
        "plt.show()"
      ],
      "metadata": {
        "colab": {
          "base_uri": "https://localhost:8080/",
          "height": 501
        },
        "id": "BlJk6TkNiATi",
        "outputId": "55bb311c-be21-4c40-8074-b09936595b1b"
      },
      "execution_count": 21,
      "outputs": [
        {
          "output_type": "stream",
          "name": "stdout",
          "text": [
            "XGB AP: 0.8724321593518857\n",
            "LGB AP: 0.8756189053761211\n",
            "Precision@1% XGB: 0.1546572934973638\n"
          ]
        },
        {
          "output_type": "display_data",
          "data": {
            "text/plain": [
              "<Figure size 640x480 with 1 Axes>"
            ],
            "image/png": "[encoded data removed]"
          },
          "metadata": {}
        }
      ]
    },
    {
      "cell_type": "code",
      "source": [
        "# CELL 8.1 - Final Autoencoder training, save, and evaluation\n",
        "import os\n",
        "import numpy as np\n",
        "import matplotlib.pyplot as plt\n",
        "from sklearn.metrics import roc_auc_score, average_precision_score, precision_recall_curve\n",
        "\n",
        "# Ensure models dir exists\n",
        "os.makedirs('models', exist_ok=True)\n",
        "\n",
        "# Get best AE params from Optuna study (fallbacks if not present)\n",
        "if 'study_ae' in globals() and study_ae.best_params:\n",
        "    best_ae = study_ae.best_params\n",
        "else:\n",
        "    # Fallback sensible defaults if study_ae not available\n",
        "    best_ae = {'latent_dim': 16, 'hidden_units': 128, 'lr': 1e-3, 'batch_size': 1024, 'epochs': 20}\n",
        "    print(\"Warning: study_ae not found — using fallback AE params:\", best_ae)\n",
        "\n",
        "latent_dim = int(best_ae.get('latent_dim', 16))\n",
        "hidden_units = int(best_ae.get('hidden_units', 128))\n",
        "lr = float(best_ae.get('lr', 1e-3))\n",
        "batch_size = int(best_ae.get('batch_size', 1024))\n",
        "epochs = int(best_ae.get('epochs', 20))\n",
        "\n",
        "# Build autoencoder\n",
        "import tensorflow as tf\n",
        "from tensorflow.keras import layers, models, callbacks\n",
        "\n",
        "input_dim = X_train.shape[1]\n",
        "inp = layers.Input(shape=(input_dim,), name='ae_input')\n",
        "x = layers.Dense(hidden_units, activation='relu')(inp)\n",
        "x = layers.Dense(latent_dim, activation='relu', name='bottleneck')(x)\n",
        "x = layers.Dense(hidden_units, activation='relu')(x)\n",
        "out = layers.Dense(input_dim, activation='linear')(x)\n",
        "ae = models.Model(inputs=inp, outputs=out, name='autoencoder')\n",
        "\n",
        "ae.compile(optimizer=tf.keras.optimizers.Adam(learning_rate=lr), loss='mse')\n",
        "ae.summary()\n",
        "\n",
        "# Prepare training data: only normal (non-fraud) transactions\n",
        "X0 = X_train[y_train == 0].values  # numpy array for Keras\n",
        "X_test_np = X_test.values\n",
        "y_test_np = y_test.values\n",
        "\n",
        "# Early stopping\n",
        "es = callbacks.EarlyStopping(monitor='val_loss', patience=5, restore_best_weights=True, verbose=1)\n",
        "\n",
        "# Train\n",
        "history = ae.fit(\n",
        "    X0, X0,\n",
        "    validation_split=0.1,\n",
        "    epochs=epochs,\n",
        "    batch_size=batch_size,\n",
        "    callbacks=[es],\n",
        "    verbose=2\n",
        ")\n",
        "\n",
        "# Save model\n",
        "ae_path = 'models/autoencoder.h5'\n",
        "ae.save(ae_path)\n",
        "print(f'Autoencoder saved to: {ae_path}')\n",
        "\n",
        "# Compute reconstruction error (MSE) on test set\n",
        "recon_test = ae.predict(X_test_np, batch_size=2048)\n",
        "mse_test = np.mean(np.square(recon_test - X_test_np), axis=1)\n",
        "\n",
        "# Evaluate: ROC-AUC and Average Precision (treating higher MSE as more anomalous)\n",
        "roc = roc_auc_score(y_test_np, mse_test)\n",
        "ap = average_precision_score(y_test_np, mse_test)\n",
        "print(f'Autoencoder recon MSE — ROC-AUC: {roc:.6f}, Average Precision (AP): {ap:.6f}')\n",
        "\n",
        "# Precision@1% (top 1% highest recon error)\n",
        "def precision_at_k_array(y_true_arr, scores_arr, k=0.01):\n",
        "    n = max(1, int(len(scores_arr) * k))\n",
        "    idx = np.argsort(scores_arr)[-n:]\n",
        "    return y_true_arr[idx].sum() / n\n",
        "\n",
        "p_at_1 = precision_at_k_array(y_test_np, mse_test, k=0.01)\n",
        "print(f'Precision@1% (AE recon MSE): {p_at_1:.6f}')\n",
        "\n",
        "# Plots: recon error histogram for fraud vs normal, and PR curve\n",
        "plt.figure(figsize=(12,4))\n",
        "plt.subplot(1,2,1)\n",
        "plt.hist(mse_test[y_test_np==0], bins=100, alpha=0.6, label='Normal', density=True)\n",
        "plt.hist(mse_test[y_test_np==1], bins=100, alpha=0.6, label='Fraud', density=True)\n",
        "plt.xlabel('Reconstruction MSE'); plt.ylabel('Density'); plt.legend(); plt.title('Reconstruction error: normal vs fraud')\n",
        "\n",
        "plt.subplot(1,2,2)\n",
        "prec, recall, _ = precision_recall_curve(y_test_np, mse_test)\n",
        "plt.plot(recall, prec, label=f'AE (AP={ap:.4f})')\n",
        "plt.xlabel('Recall'); plt.ylabel('Precision'); plt.title('Precision-Recall (AE)'); plt.legend()\n",
        "plt.tight_layout()\n",
        "plt.show()\n"
      ],
      "metadata": {
        "colab": {
          "base_uri": "https://localhost:8080/",
          "height": 1000
        },
        "id": "IlFvKMG5iCNB",
        "outputId": "4788663d-5ef7-4b27-b956-14ede9740a14"
      },
      "execution_count": 22,
      "outputs": [
        {
          "output_type": "display_data",
          "data": {
            "text/plain": [
              "\u001b[1mModel: \"autoencoder\"\u001b[0m\n"
            ],
            "text/html": [
              "<pre style=\"white-space:pre;overflow-x:auto;line-height:normal;font-family:Menlo,'DejaVu Sans Mono',consolas,'Courier New',monospace\"><span style=\"font-weight: bold\">Model: \"autoencoder\"</span>\n",
              "</pre>\n"
            ]
          },
          "metadata": {}
        },
        {
          "output_type": "display_data",
          "data": {
            "text/plain": [
              "┏━━━━━━━━━━━━━━━━━━━━━━━━━━━━━━━━━┳━━━━━━━━━━━━━━━━━━━━━━━━┳━━━━━━━━━━━━━━━┓\n",
              "┃\u001b[1m \u001b[0m\u001b[1mLayer (type)                   \u001b[0m\u001b[1m \u001b[0m┃\u001b[1m \u001b[0m\u001b[1mOutput Shape          \u001b[0m\u001b[1m \u001b[0m┃\u001b[1m \u001b[0m\u001b[1m      Param #\u001b[0m\u001b[1m \u001b[0m┃\n",
              "┡━━━━━━━━━━━━━━━━━━━━━━━━━━━━━━━━━╇━━━━━━━━━━━━━━━━━━━━━━━━╇━━━━━━━━━━━━━━━┩\n",
              "│ ae_input (\u001b[38;5;33mInputLayer\u001b[0m)           │ (\u001b[38;5;45mNone\u001b[0m, \u001b[38;5;34m30\u001b[0m)             │             \u001b[38;5;34m0\u001b[0m │\n",
              "├─────────────────────────────────┼────────────────────────┼───────────────┤\n",
              "│ dense_40 (\u001b[38;5;33mDense\u001b[0m)                │ (\u001b[38;5;45mNone\u001b[0m, \u001b[38;5;34m235\u001b[0m)            │         \u001b[38;5;34m7,285\u001b[0m │\n",
              "├─────────────────────────────────┼────────────────────────┼───────────────┤\n",
              "│ bottleneck (\u001b[38;5;33mDense\u001b[0m)              │ (\u001b[38;5;45mNone\u001b[0m, \u001b[38;5;34m19\u001b[0m)             │         \u001b[38;5;34m4,484\u001b[0m │\n",
              "├─────────────────────────────────┼────────────────────────┼───────────────┤\n",
              "│ dense_41 (\u001b[38;5;33mDense\u001b[0m)                │ (\u001b[38;5;45mNone\u001b[0m, \u001b[38;5;34m235\u001b[0m)            │         \u001b[38;5;34m4,700\u001b[0m │\n",
              "├─────────────────────────────────┼────────────────────────┼───────────────┤\n",
              "│ dense_42 (\u001b[38;5;33mDense\u001b[0m)                │ (\u001b[38;5;45mNone\u001b[0m, \u001b[38;5;34m30\u001b[0m)             │         \u001b[38;5;34m7,080\u001b[0m │\n",
              "└─────────────────────────────────┴────────────────────────┴───────────────┘\n"
            ],
            "text/html": [
              "<pre style=\"white-space:pre;overflow-x:auto;line-height:normal;font-family:Menlo,'DejaVu Sans Mono',consolas,'Courier New',monospace\">┏━━━━━━━━━━━━━━━━━━━━━━━━━━━━━━━━━┳━━━━━━━━━━━━━━━━━━━━━━━━┳━━━━━━━━━━━━━━━┓\n",
              "┃<span style=\"font-weight: bold\"> Layer (type)                    </span>┃<span style=\"font-weight: bold\"> Output Shape           </span>┃<span style=\"font-weight: bold\">       Param # </span>┃\n",
              "┡━━━━━━━━━━━━━━━━━━━━━━━━━━━━━━━━━╇━━━━━━━━━━━━━━━━━━━━━━━━╇━━━━━━━━━━━━━━━┩\n",
              "│ ae_input (<span style=\"color: #0087ff; text-decoration-color: #0087ff\">InputLayer</span>)           │ (<span style=\"color: #00d7ff; text-decoration-color: #00d7ff\">None</span>, <span style=\"color: #00af00; text-decoration-color: #00af00\">30</span>)             │             <span style=\"color: #00af00; text-decoration-color: #00af00\">0</span> │\n",
              "├─────────────────────────────────┼────────────────────────┼───────────────┤\n",
              "│ dense_40 (<span style=\"color: #0087ff; text-decoration-color: #0087ff\">Dense</span>)                │ (<span style=\"color: #00d7ff; text-decoration-color: #00d7ff\">None</span>, <span style=\"color: #00af00; text-decoration-color: #00af00\">235</span>)            │         <span style=\"color: #00af00; text-decoration-color: #00af00\">7,285</span> │\n",
              "├─────────────────────────────────┼────────────────────────┼───────────────┤\n",
              "│ bottleneck (<span style=\"color: #0087ff; text-decoration-color: #0087ff\">Dense</span>)              │ (<span style=\"color: #00d7ff; text-decoration-color: #00d7ff\">None</span>, <span style=\"color: #00af00; text-decoration-color: #00af00\">19</span>)             │         <span style=\"color: #00af00; text-decoration-color: #00af00\">4,484</span> │\n",
              "├─────────────────────────────────┼────────────────────────┼───────────────┤\n",
              "│ dense_41 (<span style=\"color: #0087ff; text-decoration-color: #0087ff\">Dense</span>)                │ (<span style=\"color: #00d7ff; text-decoration-color: #00d7ff\">None</span>, <span style=\"color: #00af00; text-decoration-color: #00af00\">235</span>)            │         <span style=\"color: #00af00; text-decoration-color: #00af00\">4,700</span> │\n",
              "├─────────────────────────────────┼────────────────────────┼───────────────┤\n",
              "│ dense_42 (<span style=\"color: #0087ff; text-decoration-color: #0087ff\">Dense</span>)                │ (<span style=\"color: #00d7ff; text-decoration-color: #00d7ff\">None</span>, <span style=\"color: #00af00; text-decoration-color: #00af00\">30</span>)             │         <span style=\"color: #00af00; text-decoration-color: #00af00\">7,080</span> │\n",
              "└─────────────────────────────────┴────────────────────────┴───────────────┘\n",
              "</pre>\n"
            ]
          },
          "metadata": {}
        },
        {
          "output_type": "display_data",
          "data": {
            "text/plain": [
              "\u001b[1m Total params: \u001b[0m\u001b[38;5;34m23,549\u001b[0m (91.99 KB)\n"
            ],
            "text/html": [
              "<pre style=\"white-space:pre;overflow-x:auto;line-height:normal;font-family:Menlo,'DejaVu Sans Mono',consolas,'Courier New',monospace\"><span style=\"font-weight: bold\"> Total params: </span><span style=\"color: #00af00; text-decoration-color: #00af00\">23,549</span> (91.99 KB)\n",
              "</pre>\n"
            ]
          },
          "metadata": {}
        },
        {
          "output_type": "display_data",
          "data": {
            "text/plain": [
              "\u001b[1m Trainable params: \u001b[0m\u001b[38;5;34m23,549\u001b[0m (91.99 KB)\n"
            ],
            "text/html": [
              "<pre style=\"white-space:pre;overflow-x:auto;line-height:normal;font-family:Menlo,'DejaVu Sans Mono',consolas,'Courier New',monospace\"><span style=\"font-weight: bold\"> Trainable params: </span><span style=\"color: #00af00; text-decoration-color: #00af00\">23,549</span> (91.99 KB)\n",
              "</pre>\n"
            ]
          },
          "metadata": {}
        },
        {
          "output_type": "display_data",
          "data": {
            "text/plain": [
              "\u001b[1m Non-trainable params: \u001b[0m\u001b[38;5;34m0\u001b[0m (0.00 B)\n"
            ],
            "text/html": [
              "<pre style=\"white-space:pre;overflow-x:auto;line-height:normal;font-family:Menlo,'DejaVu Sans Mono',consolas,'Courier New',monospace\"><span style=\"font-weight: bold\"> Non-trainable params: </span><span style=\"color: #00af00; text-decoration-color: #00af00\">0</span> (0.00 B)\n",
              "</pre>\n"
            ]
          },
          "metadata": {}
        },
        {
          "output_type": "stream",
          "name": "stdout",
          "text": [
            "Epoch 1/11\n",
            "102/102 - 3s - 27ms/step - loss: 0.2246 - val_loss: 0.0572\n",
            "Epoch 2/11\n",
            "102/102 - 1s - 13ms/step - loss: 0.0519 - val_loss: 0.0374\n",
            "Epoch 3/11\n",
            "102/102 - 1s - 13ms/step - loss: 0.0387 - val_loss: 0.0432\n",
            "Epoch 4/11\n",
            "102/102 - 2s - 21ms/step - loss: 0.0336 - val_loss: 0.0274\n",
            "Epoch 5/11\n",
            "102/102 - 2s - 16ms/step - loss: 0.0284 - val_loss: 0.0243\n",
            "Epoch 6/11\n",
            "102/102 - 1s - 13ms/step - loss: 0.0240 - val_loss: 0.0311\n",
            "Epoch 7/11\n",
            "102/102 - 1s - 13ms/step - loss: 0.0272 - val_loss: 0.0229\n",
            "Epoch 8/11\n",
            "102/102 - 2s - 24ms/step - loss: 0.0275 - val_loss: 0.0198\n",
            "Epoch 9/11\n",
            "102/102 - 1s - 13ms/step - loss: 0.0216 - val_loss: 0.0229\n",
            "Epoch 10/11\n",
            "102/102 - 1s - 13ms/step - loss: 0.0197 - val_loss: 0.0246\n",
            "Epoch 11/11\n",
            "102/102 - 1s - 13ms/step - loss: 0.0204 - val_loss: 0.0167\n",
            "Restoring model weights from the end of the best epoch: 11.\n"
          ]
        },
        {
          "output_type": "stream",
          "name": "stderr",
          "text": [
            "WARNING:absl:You are saving your model as an HDF5 file via `model.save()` or `keras.saving.save_model(model)`. This file format is considered legacy. We recommend using instead the native Keras format, e.g. `model.save('my_model.keras')` or `keras.saving.save_model(model, 'my_model.keras')`. \n"
          ]
        },
        {
          "output_type": "stream",
          "name": "stdout",
          "text": [
            "Autoencoder saved to: models/autoencoder.h5\n",
            "\u001b[1m28/28\u001b[0m \u001b[32m━━━━━━━━━━━━━━━━━━━━\u001b[0m\u001b[37m\u001b[0m \u001b[1m0s\u001b[0m 11ms/step\n",
            "Autoencoder recon MSE — ROC-AUC: 0.958469, Average Precision (AP): 0.534758\n",
            "Precision@1% (AE recon MSE): 0.138840\n"
          ]
        },
        {
          "output_type": "display_data",
          "data": {
            "text/plain": [
              "<Figure size 1200x400 with 2 Axes>"
            ],
            "image/png": "[encoded data removed]"
          },
          "metadata": {}
        }
      ]
    },
    {
      "cell_type": "code",
      "source": [
        "# # CELL 8.2 — Visualize Autoencoder Latent Space (t-SNE)\n",
        "\n",
        "# from sklearn.manifold import TSNE\n",
        "# import seaborn as sns\n",
        "# import matplotlib.pyplot as plt\n",
        "# import numpy as np\n",
        "\n",
        "# # Extract bottleneck layer output\n",
        "# bottleneck_model = tf.keras.Model(\n",
        "#     inputs=ae.input,\n",
        "#     outputs=ae.get_layer(\"bottleneck\").output\n",
        "# )\n",
        "\n",
        "# # Compute latent representations\n",
        "# latent_train = bottleneck_model.predict(X_train.values, batch_size=2048)\n",
        "# latent_test = bottleneck_model.predict(X_test.values, batch_size=2048)\n",
        "\n",
        "# # Combine for visualization\n",
        "# latent_all = np.vstack([latent_train, latent_test])\n",
        "# labels_all = np.hstack([y_train.values, y_test.values])\n",
        "\n",
        "# # Run t-SNE on latent vectors\n",
        "# tsne = TSNE(n_components=2, perplexity=40, n_iter=1500, random_state=42)\n",
        "# latent_tsne = tsne.fit_transform(latent_all)\n",
        "\n",
        "# plt.figure(figsize=(7,6))\n",
        "# sns.scatterplot(\n",
        "#     x=latent_tsne[:,0], y=latent_tsne[:,1],\n",
        "#     hue=labels_all,\n",
        "#     palette={0:\"blue\", 1:\"red\"}, alpha=0.6, s=20\n",
        "# )\n",
        "# plt.title(\"Autoencoder Latent Space — t-SNE\")\n",
        "# plt.legend([\"Normal\", \"Fraud\"])\n",
        "# plt.show()\n"
      ],
      "metadata": {
        "id": "Q9buuxJBoGy8"
      },
      "execution_count": 23,
      "outputs": []
    },
    {
      "cell_type": "code",
      "metadata": {
        "colab": {
          "base_uri": "https://localhost:8080/",
          "height": 954
        },
        "id": "89959f4a",
        "outputId": "84b296a4-33a4-49ae-cb7b-18c61e3d52a5"
      },
      "source": [
        "# CELL 9.1 - Consolidated Plots\n",
        "\n",
        "import matplotlib.pyplot as plt\n",
        "import seaborn as sns\n",
        "import numpy as np\n",
        "from sklearn.metrics import precision_recall_curve, average_precision_score, roc_auc_score\n",
        "\n",
        "# Define plot_pr function here so it's available\n",
        "def plot_pr(y_true, y_score, label='model'):\n",
        "    from sklearn.metrics import precision_recall_curve, average_precision_score\n",
        "    p, r, _ = precision_recall_curve(y_true, y_score)\n",
        "    ap = average_precision_score(y_true, y_score)\n",
        "    plt.plot(r, p, label=f\"{label} AP={ap:.4f}\")\n",
        "    plt.xlabel(\"Recall\"); plt.ylabel(\"Precision\"); plt.legend()\n",
        "\n",
        "\n",
        "# --- Plots from cell BlJk6TkNiATi (XGBoost and LightGBM PR curves) ---\n",
        "plt.figure(figsize=(8, 6))\n",
        "plot_pr(y_test, px, 'XGB')\n",
        "plot_pr(y_test, pl, 'LGB')\n",
        "plt.title('Precision-Recall Curves (XGBoost and LightGBM)')\n",
        "plt.show()\n",
        "\n",
        "# --- Plots from cell IlFvKMG5iCNB (Autoencoder) ---\n",
        "\n",
        "# Reconstruction error histogram\n",
        "plt.figure(figsize=(12,4))\n",
        "plt.subplot(1,2,1)\n",
        "# Ensure X_test_np and y_test_np are available or recreate if necessary\n",
        "if 'X_test_np' not in globals() or 'y_test_np' not in globals():\n",
        "    X_test_np = X_test.values\n",
        "    y_test_np = y_test.values\n",
        "# Ensure mse_test is available or recalculate if necessary\n",
        "if 'mse_test' not in globals():\n",
        "    # Assuming 'ae' model is available from previous cells\n",
        "    if 'ae' in globals():\n",
        "        recon_test = ae.predict(X_test_np, batch_size=2048)\n",
        "        mse_test = np.mean(np.square(recon_test - X_test_np), axis=1)\n",
        "    else:\n",
        "        print(\"Warning: Autoencoder model 'ae' not found. Cannot generate AE plots.\")\n",
        "        mse_test = np.array([]) # Create empty array to avoid errors\n",
        "\n",
        "if mse_test.size > 0:\n",
        "    plt.hist(mse_test[y_test_np==0], bins=100, alpha=0.6, label='Normal', density=True)\n",
        "    plt.hist(mse_test[y_test_np==1], bins=100, alpha=0.6, label='Fraud', density=True)\n",
        "    plt.xlabel('Reconstruction MSE'); plt.ylabel('Density'); plt.legend(); plt.title('Reconstruction error: normal vs fraud')\n",
        "\n",
        "    # AE Precision-Recall curve\n",
        "    plt.subplot(1,2,2)\n",
        "    # Ensure ap is available or recalculate if necessary\n",
        "    if 'ap' not in globals():\n",
        "         ap = average_precision_score(y_test_np, mse_test)\n",
        "    prec, recall, _ = precision_recall_curve(y_test_np, mse_test)\n",
        "    plt.plot(recall, prec, label=f'AE (AP={ap:.4f})')\n",
        "    plt.xlabel('Recall'); plt.ylabel('Precision'); plt.title('Precision-Recall (AE)'); plt.legend()\n",
        "\n",
        "plt.tight_layout()\n",
        "plt.show()"
      ],
      "execution_count": 24,
      "outputs": [
        {
          "output_type": "display_data",
          "data": {
            "text/plain": [
              "<Figure size 800x600 with 1 Axes>"
            ],
            "image/png": "[encoded data removed]"
          },
          "metadata": {}
        },
        {
          "output_type": "display_data",
          "data": {
            "text/plain": [
              "<Figure size 1200x400 with 2 Axes>"
            ],
            "image/png": "[encoded data removed]"
          },
          "metadata": {}
        }
      ]
    },
    {
      "cell_type": "code",
      "metadata": {
        "colab": {
          "base_uri": "https://localhost:8080/",
          "height": 1000
        },
        "id": "8e0aa360",
        "outputId": "d0f9b8cb-bf16-4fa5-df15-ffcacb530b76"
      },
      "source": [
        "# CELL 9.2 - Confusion Matrices and Heatmaps\n",
        "\n",
        "from sklearn.metrics import confusion_matrix\n",
        "import seaborn as sns\n",
        "import matplotlib.pyplot as plt\n",
        "import numpy as np\n",
        "\n",
        "# Function to plot confusion matrix\n",
        "def plot_confusion_matrix(y_true, y_pred, title):\n",
        "    cm = confusion_matrix(y_true, y_pred)\n",
        "    plt.figure(figsize=(6, 4))\n",
        "    sns.heatmap(cm, annot=True, fmt='d', cmap='Blues', cbar=False,\n",
        "                xticklabels=['Predicted Normal', 'Predicted Fraud'],\n",
        "                yticklabels=['Actual Normal', 'Actual Fraud'])\n",
        "    plt.title(title)\n",
        "    plt.xlabel('Predicted Label')\n",
        "    plt.ylabel('True Label')\n",
        "    plt.show()\n",
        "\n",
        "# --- Confusion Matrix for XGBoost ---\n",
        "# Need to convert probabilities to class predictions (e.g., using a threshold)\n",
        "# A common threshold is 0.5, but for imbalanced data, a lower threshold might be better\n",
        "# For simplicity, let's use 0.5 for now, but this could be tuned.\n",
        "xgb_preds_class = (px > 0.5).astype(int)\n",
        "plot_confusion_matrix(y_test, xgb_preds_class, 'XGBoost Confusion Matrix')\n",
        "\n",
        "# --- Confusion Matrix for LightGBM ---\n",
        "# Convert probabilities to class predictions using a threshold\n",
        "lgb_preds_class = (pl > 0.5).astype(int)\n",
        "plot_confusion_matrix(y_test, lgb_preds_class, 'LightGBM Confusion Matrix')\n",
        "\n",
        "\n",
        "# --- Confusion Matrix for Autoencoder ---\n",
        "# Need to determine a threshold for the reconstruction error (mse_test)\n",
        "# A common approach is to find a threshold that separates normal from fraud in the training data\n",
        "# For simplicity here, let's find a threshold that maximizes F1-score on the test set,\n",
        "# although in a real scenario, you'd set this based on business requirements or training data distribution.\n",
        "# Or, a simpler approach for visualization: pick a threshold based on the histogram.\n",
        "# Let's use a threshold based on the 99th percentile of MSE for normal transactions in the training set (X0)\n",
        "if 'X0' in globals() and 'ae' in globals():\n",
        "    X0_np = X0.values if isinstance(X0, pd.DataFrame) else X0\n",
        "    recon_0 = ae.predict(X0_np, batch_size=2048)\n",
        "    mse_0 = np.mean(np.square(recon_0 - X0_np), axis=1)\n",
        "    # Set threshold as the 99th percentile of MSE for normal training data\n",
        "    ae_threshold = np.percentile(mse_0, 99)\n",
        "    print(f\"Autoencoder MSE Threshold (99th percentile of normal train data): {ae_threshold:.6f}\")\n",
        "    ae_preds_class = (mse_test > ae_threshold).astype(int)\n",
        "    plot_confusion_matrix(y_test_np, ae_preds_class, 'Autoencoder Confusion Matrix (Threshold based on 99th percentile of Normal Train MSE)')\n",
        "elif mse_test.size > 0:\n",
        "     # Fallback threshold if X0 or ae not available, less ideal\n",
        "     print(\"Warning: X0 or ae model not found. Using a simple median-based threshold for AE confusion matrix.\")\n",
        "     ae_threshold_fallback = np.median(mse_test[y_test_np==0]) * 2 # Example fallback\n",
        "     ae_preds_class_fallback = (mse_test > ae_threshold_fallback).astype(int)\n",
        "     plot_confusion_matrix(y_test_np, ae_preds_class_fallback, 'Autoencoder Confusion Matrix (Fallback Threshold)')\n",
        "\n",
        "else:\n",
        "    print(\"Cannot generate Autoencoder confusion matrix: mse_test is empty.\")"
      ],
      "execution_count": 25,
      "outputs": [
        {
          "output_type": "display_data",
          "data": {
            "text/plain": [
              "<Figure size 600x400 with 1 Axes>"
            ],
            "image/png": "[encoded data removed]"
          },
          "metadata": {}
        },
        {
          "output_type": "display_data",
          "data": {
            "text/plain": [
              "<Figure size 600x400 with 1 Axes>"
            ],
            "image/png": "[encoded data removed]"
          },
          "metadata": {}
        },
        {
          "output_type": "stream",
          "name": "stdout",
          "text": [
            "\u001b[1m112/112\u001b[0m \u001b[32m━━━━━━━━━━━━━━━━━━━━\u001b[0m\u001b[37m\u001b[0m \u001b[1m1s\u001b[0m 5ms/step\n",
            "Autoencoder MSE Threshold (99th percentile of normal train data): 0.222336\n"
          ]
        },
        {
          "output_type": "display_data",
          "data": {
            "text/plain": [
              "<Figure size 600x400 with 1 Axes>"
            ],
            "image/png": "[encoded data removed]"
          },
          "metadata": {}
        }
      ]
    },
    {
      "cell_type": "code",
      "source": [],
      "metadata": {
        "id": "cSaEozHb1V-r"
      },
      "execution_count": 25,
      "outputs": []
    },
    {
      "cell_type": "code",
      "metadata": {
        "colab": {
          "base_uri": "https://localhost:8080/"
        },
        "id": "5a280e24",
        "outputId": "ea422055-cdb6-4a60-9b03-da89e992fa66"
      },
      "source": [
        "# CELL 9.3 - Optimize Autoencoder Threshold for F1-score\n",
        "\n",
        "from sklearn.metrics import f1_score\n",
        "import numpy as np\n",
        "\n",
        "# Ensure mse_test and y_test_np are available\n",
        "if 'mse_test' not in globals() or 'y_test_np' not in globals():\n",
        "    print(\"Error: mse_test or y_test_np not found. Please run previous cells.\")\n",
        "else:\n",
        "    # Generate a range of potential thresholds\n",
        "    # We can use the reconstruction errors themselves as potential thresholds\n",
        "    thresholds = np.linspace(mse_test.min(), mse_test.max(), 200) # Using a wider range for exploration\n",
        "\n",
        "    # Find the threshold that maximizes the F1-score\n",
        "    optimal_threshold = 0\n",
        "    max_f1 = 0\n",
        "\n",
        "    for threshold in thresholds:\n",
        "        # Predict class based on threshold\n",
        "        ae_preds_class = (mse_test > threshold).astype(int)\n",
        "\n",
        "        # Calculate F1-score\n",
        "        f1 = f1_score(y_test_np, ae_preds_class)\n",
        "\n",
        "        # Update optimal threshold if current F1 is better\n",
        "        if f1 > max_f1:\n",
        "            max_f1 = f1\n",
        "            optimal_threshold = threshold\n",
        "\n",
        "    print(f\"Optimal Autoencoder Threshold (maximizing F1-score on test set): {optimal_threshold:.6f}\")\n",
        "    print(f\"Maximum F1-score at this threshold: {max_f1:.6f}\")\n",
        "\n",
        "    # You can now use this optimal_threshold for subsequent evaluations\n",
        "    # e.g., for generating confusion matrix and classification report"
      ],
      "execution_count": 26,
      "outputs": [
        {
          "output_type": "stream",
          "name": "stdout",
          "text": [
            "Optimal Autoencoder Threshold (maximizing F1-score on test set): 0.878659\n",
            "Maximum F1-score at this threshold: 0.554545\n"
          ]
        }
      ]
    },
    {
      "cell_type": "code",
      "metadata": {
        "colab": {
          "base_uri": "https://localhost:8080/",
          "height": 1000
        },
        "id": "yVpJg7ny293e",
        "outputId": "d5d164ea-2c83-4577-d8ff-088a918c9e10"
      },
      "source": [
        "# CELL 9.4 - Confusion Matrices and Heatmaps (Updated)\n",
        "\n",
        "from sklearn.metrics import confusion_matrix\n",
        "import seaborn as sns\n",
        "import matplotlib.pyplot as plt\n",
        "import numpy as np\n",
        "\n",
        "# Function to plot confusion matrix\n",
        "def plot_confusion_matrix(y_true, y_pred, title):\n",
        "    cm = confusion_matrix(y_true, y_pred)\n",
        "    plt.figure(figsize=(6, 4))\n",
        "    sns.heatmap(cm, annot=True, fmt='d', cmap='Blues', cbar=False,\n",
        "                xticklabels=['Predicted Normal', 'Predicted Fraud'],\n",
        "                yticklabels=['Actual Normal', 'Actual Fraud'])\n",
        "    plt.title(title)\n",
        "    plt.xlabel('Predicted Label')\n",
        "    plt.ylabel('True Label')\n",
        "    plt.show()\n",
        "\n",
        "# --- Confusion Matrix for XGBoost ---\n",
        "# Need to convert probabilities to class predictions (e.g., using a threshold)\n",
        "# A common threshold is 0.5, but for imbalanced data, a lower threshold might be better\n",
        "# For simplicity, let's use 0.5 for now, but this could be tuned.\n",
        "xgb_preds_class = (px > 0.5).astype(int)\n",
        "plot_confusion_matrix(y_test, xgb_preds_class, 'XGBoost Confusion Matrix')\n",
        "\n",
        "# --- Confusion Matrix for LightGBM ---\n",
        "# Convert probabilities to class predictions using a threshold\n",
        "lgb_preds_class = (pl > 0.5).astype(int)\n",
        "plot_confusion_matrix(y_test, lgb_preds_class, 'LightGBM Confusion Matrix')\n",
        "\n",
        "\n",
        "# --- Confusion Matrix for Autoencoder ---\n",
        "# Need to determine a threshold for the reconstruction error (mse_test)\n",
        "# A common approach is to find a threshold that separates normal from fraud in the training data\n",
        "# For simplicity here, let's find a threshold that maximizes F1-score on the test set,\n",
        "# although in a real scenario, you'd set this based on business requirements or training data distribution.\n",
        "# Or, a simpler approach for visualization: pick a threshold based on the histogram.\n",
        "# Let's use a threshold based on the 99th percentile of MSE for normal transactions in the training set (X0)\n",
        "if 'X0' in globals() and 'ae' in globals():\n",
        "    X0_np = X0.values if isinstance(X0, pd.DataFrame) else X0\n",
        "    recon_0 = ae.predict(X0_np, batch_size=2048)\n",
        "    mse_0 = np.mean(np.square(recon_0 - X0_np), axis=1)\n",
        "    # Set threshold as the 99th percentile of MSE for normal training data\n",
        "    ae_threshold = np.percentile(mse_0, 99)\n",
        "    print(f\"Autoencoder MSE Threshold (99th percentile of normal train data): {ae_threshold:.6f}\")\n",
        "    ae_preds_class = (mse_test > ae_threshold).astype(int)\n",
        "    plot_confusion_matrix(y_test_np, ae_preds_class, 'Autoencoder Confusion Matrix (Threshold based on 99th percentile of Normal Train MSE)')\n",
        "elif mse_test.size > 0:\n",
        "     # Fallback threshold if X0 or ae not available, less ideal\n",
        "     print(\"Warning: X0 or ae model not found. Using a simple median-based threshold for AE confusion matrix.\")\n",
        "     ae_threshold_fallback = np.median(mse_test[y_test_np==0]) * 2 # Example fallback\n",
        "     ae_preds_class_fallback = (mse_test > ae_threshold_fallback).astype(int)\n",
        "     plot_confusion_matrix(y_test_np, ae_preds_class_fallback, 'Autoencoder Confusion Matrix (Fallback Threshold)')\n",
        "\n",
        "else:\n",
        "    print(\"Cannot generate Autoencoder confusion matrix: mse_test is empty.\")"
      ],
      "execution_count": 27,
      "outputs": [
        {
          "output_type": "display_data",
          "data": {
            "text/plain": [
              "<Figure size 600x400 with 1 Axes>"
            ],
            "image/png": "[encoded data removed]"
          },
          "metadata": {}
        },
        {
          "output_type": "display_data",
          "data": {
            "text/plain": [
              "<Figure size 600x400 with 1 Axes>"
            ],
            "image/png": "[encoded data removed]"
          },
          "metadata": {}
        },
        {
          "output_type": "stream",
          "name": "stdout",
          "text": [
            "\u001b[1m112/112\u001b[0m \u001b[32m━━━━━━━━━━━━━━━━━━━━\u001b[0m\u001b[37m\u001b[0m \u001b[1m1s\u001b[0m 5ms/step\n",
            "Autoencoder MSE Threshold (99th percentile of normal train data): 0.222336\n"
          ]
        },
        {
          "output_type": "display_data",
          "data": {
            "text/plain": [
              "<Figure size 600x400 with 1 Axes>"
            ],
            "image/png": "[encoded data removed]"
          },
          "metadata": {}
        }
      ]
    },
    {
      "cell_type": "code",
      "source": [],
      "metadata": {
        "id": "0YVGy5x03FAc"
      },
      "execution_count": 27,
      "outputs": []
    }
  ]
}